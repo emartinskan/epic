{
 "cells": [
  {
   "cell_type": "code",
   "execution_count": 27,
   "metadata": {},
   "outputs": [
    {
     "name": "stdout",
     "output_type": "stream",
     "text": [
      "Current Working Directory is:  C:\\Users\\marten1\\AppData\\Local\\Programs\\Microsoft VS Code\n"
     ]
    }
   ],
   "source": [
    "# Definition of objects\n",
    "from dataclasses import dataclass\n",
    "from enum import Enum\n",
    "\n",
    "import pandas as pd\n",
    "\n",
    "# Import the os module\n",
    "import os\n",
    "\n",
    "# Get a working directory with os.getcwd\n",
    "cwd = os.getcwd()\n",
    "\n",
    "print('Current Working Directory is: ', cwd)"
   ]
  },
  {
   "cell_type": "code",
   "execution_count": 28,
   "metadata": {},
   "outputs": [],
   "source": [
    "# program to compute the time\n",
    "# of execution of any python code\n",
    "import time\n",
    " \n",
    "# we initialize the variable start\n",
    "# to store the starting time of\n",
    "# execution of program\n",
    "start = time.time()"
   ]
  },
  {
   "cell_type": "code",
   "execution_count": 29,
   "metadata": {},
   "outputs": [
    {
     "name": "stdout",
     "output_type": "stream",
     "text": [
      "Current date and time: \n",
      "2022-07-21 16:45:43\n",
      "16:45:43 on Thursday, July the 21th, 2022\n"
     ]
    }
   ],
   "source": [
    "#Datetime\n",
    "import datetime\n",
    "now = datetime.datetime.now()\n",
    "\n",
    "print(\"Current date and time: \")\n",
    "print(now.strftime('%Y-%m-%d %H:%M:%S'))\n",
    "print(now.strftime('%H:%M:%S on %A, %B the %dth, %Y'))\n"
   ]
  },
  {
   "cell_type": "code",
   "execution_count": 30,
   "metadata": {},
   "outputs": [],
   "source": [
    "#Software Module Definition\n",
    "class MainModule(Enum):\n",
    "    S_AAS_MAS_TCP = \"S_AAS_MAS_TCP\"\n",
    "    S_AAS_MODBUS_TCP = \"S_AAS_MODBUS_TCP\"\n",
    "    S_AAS_SERIAL = \"S_AAS_SERIAL\"\n",
    "    S_ALARM = \"S_ALARM\"\n",
    "    S_DRIVE = \"S_DRIVE\"\n",
    "    S_ELMT_ON_OFF = \"S_ELMT_ON_OFF\"\n",
    "    S_EMITTER_CMT = \"S_EMITTER_CMT\"\n",
    "    S_FIPA = \"S_FIPA\"\n",
    "    S_FLOW_METER = \"S_FLOW_METER\"\n",
    "    S_GASKET = \"S_GASKET\"\n",
    "    S_LEAK = \"S_LEAK\"\n",
    "    S_LIMIT_HI_LO = \"S_LIMIT_HI_LO\"\n",
    "    S_LIMIT_ON_OFF = \"S_LIMIT_ON_OFF\"\n",
    "    S_LIMIT_SWITCH = \"S_LIMIT_SWITCH\"\n",
    "    S_LINE = \"S_LINE\"\n",
    "    S_MOTOR1 = \"S_MOTOR1\"\n",
    "    S_PLANT = \"S_PLANT\"\n",
    "    S_PMS_MODBUS_ASCII = \"S_PMS_MODBUS_ASCII\"\n",
    "    S_PMS_MODBUS_TCP = \"S_PMS_MODBUS_TCP\"\n",
    "    S_PUMP_TEST = \"S_PUMP_TEST\"\n",
    "    S_REG_CONT = \"S_REG_CONT\"\n",
    "    #S_REG = \"S_REG\"\n",
    "    S_SIS = \"S_SIS\"\n",
    "    S_SKANFOG = \"SKANFOG\"\n",
    "    #S_TIMESYNCH = \"S_TIMESYNCH\"\n",
    "    S_VALVE_FLAP = \"S_VALVE_FLAP\"\n",
    "    #S_WEIGHT_SCALE_NG = \"S_WEIGHT_SCALE_NG\"\n",
    "    #S_WEIGHT_SCALE = \"S_WEIGHT_SCALE\"\n",
    "    S_WEIGHT_SCALE2_NG = \"S_WEIGHT_SCALE2_NG\"\n",
    "\n",
    "\n",
    "\n"
   ]
  },
  {
   "cell_type": "code",
   "execution_count": 31,
   "metadata": {},
   "outputs": [],
   "source": [
    "#ModePhase Siemens\n",
    "class ModeNumber(Enum):\n",
    "    STARTUP = 101\n",
    "    INITIALIZE = 102\n",
    "    AERATION = 103\n",
    "    NEGATIVE_PRESSURE_AERATION = 104\n",
    "    EMERGENCY_MODE = 105\n",
    "    OFF = 106\n",
    "    READY = 107\n",
    "    LEAK_TEST_STABLICING = 108\n",
    "    LEAK_TEST_MEASURING = 109\n",
    "    DOOR_HANDLING = 110\n",
    "    DRYING_AFTER_CLEANING = 111\n",
    "    TEST_MODE_DOOR_CLOSED = 112\n",
    "    TEST_MODE_DOOR_OPEN = 113\n",
    "    PRODUCTION = 114\n",
    "    STANDBY = 115\n",
    "    UPS_MODE = 116\n",
    "    MAINTENANCE = 117\n",
    "    DECONTAMINATION_RUNNING = 118\n",
    "    DOSING_RATE_SETTING = 119\n",
    "    DOSING_RATE_AERATION = 120\n",
    "    COMMON_DECO_RUNNING = 121\n",
    "    COMMON_DECO_AERATION = 122\n",
    "    #123 - 132 RESERVED\n",
    "\n",
    "class PhaseNumber(Enum):\n",
    "    ENABLE_PRECONDITIONING = 701\n",
    "    PRECONDITIONING = 702\n",
    "    ENABLE_CONDITIONING = 703\n",
    "    CONDITIONING = 704\n",
    "    HOLDING = 705\n",
    "    REDOSING = 706\n",
    "    ENABLE_AERATION = 707\n",
    "    AERATION_1 = 708\n",
    "    AERATION_2 = 709\n",
    "    CONCENTRATION_CHECK = 710\n",
    "    ENABLE_SHORT_AERATION = 711\n",
    "    SHORT_AERATION = 712\n",
    "    DECONTAMINATION_FINISHED = 715"
   ]
  },
  {
   "cell_type": "code",
   "execution_count": 32,
   "metadata": {},
   "outputs": [],
   "source": [
    "#dataclass Motor\n",
    "@dataclass\n",
    "class Motor:\n",
    "    # Attributes Declaration\n",
    "    # using Type Hints\n",
    "\n",
    "    #Basic info\n",
    "    pid: str = \"\"\n",
    "    description: str = \"\"\n",
    "    plant_part: str = \"\"\n",
    "    line_number : int = \"\"\n",
    "\n",
    "\n",
    "    #Extended info\n",
    "    desc_component: str = \"\"#fan,valve,flap,temperature sensor, air velocity sensor\n",
    "    desc_function: str = \"\" #intake air, exhaust air, vacuum pump, pressure control, flap, dehuminifier\n",
    "    desc_location: str = \"\" #working chamber, isolator inside, isolator outside, room, technical area\n",
    "    desc_mode_phase: str = \"\"#LEAK TEST, PRECONDITIONING, DOSING RATE - SETTINGS we\n",
    "    desc_mode_phase: str = PhaseNumber\n",
    "\n",
    "    \n",
    "    #Software info\n",
    "    main_modul: str = MainModule.S_MOTOR1\n",
    "    element_number: int = -1\n",
    "    s_reg_cont: int = -1\n",
    "    #s_reg_cont2: int\n",
    "    s_limit_hi_lo_1: int = -1\n",
    "    #s_limit_hi_lo_2: int\n",
    "    #s_limit_hi_lo_3: int\n",
    "    #s_limit_hi_lo_4: int\n",
    "    #s_limit_on_off : int\n",
    "    #s_limit_switch : int\n",
    "\n",
    "    \n",
    "    #Hardware Info\n",
    "    #Inputs\n",
    "    run_feedback: str = \"\"\n",
    "    fault_1_XA: str = \"\"\n",
    "    fault_2_SS: str = \"\"\n",
    "    speed_position_feedback: str = \"\"\n",
    "    #Output\n",
    "    release: str = \"\"\n",
    "    speed_position_control: str = \"\"\n",
    "\n",
    "    #Print info for Element List\n",
    "    def elementlistdata(self):\n",
    "        # using format() method\n",
    "        #print('I love {} for \"{}!\"'.format('Geeks', 'Geeks'))\n",
    "        # using format() method and referring\n",
    "        # a position of the object\n",
    "        #print(f\"{'Element number'}: {self.element_number}\")\n",
    "        # using format() method and referring\n",
    "        # a position of the object\n",
    "        print('{0}: {1}'.format('PID',self.pid))\n",
    "        print('{0}: {1}'.format('description',self.description))\n",
    "        print('{0}: {1}'.format('plant_part',self.plant_part))\n",
    "        print('{0}: {1}'.format('line_number',self.line_number))\n",
    "        print('{0}: {1}'.format('Element number',self.element_number))\n",
    "\n",
    "    #Printing objects methods\n",
    "    #def __init__(self, pid, description): \n",
    "    #    self.pid = \"Y.XXX\" \n",
    "    #    self.description = \"Here a description\" \n",
    "\n",
    "    \n",
    "    def __repr__(self): \n",
    "        return \"\\nFrom __repr__ method of Motor: \\nPID:% s Description:% s\" % (self.pid, self.description)\n",
    "\n",
    "\n",
    "    def __str__(self): \n",
    "        return \"\\nFrom __str__ method of Motor:\\n PID is % s, \" \"description is % s\" % (self.pid, self.description) \n",
    "\n",
    "    \n",
    "\n"
   ]
  },
  {
   "cell_type": "code",
   "execution_count": 33,
   "metadata": {},
   "outputs": [
    {
     "name": "stdout",
     "output_type": "stream",
     "text": [
      "\n",
      "From __str__ method of Motor:\n",
      " PID is 1.100, description is blafasdf\n"
     ]
    }
   ],
   "source": [
    "#Test object motor\n",
    "motor1 = Motor('x.xxx','blafasdf')\n",
    "motor1.pid = '1.100'\n",
    "print(motor1)"
   ]
  },
  {
   "cell_type": "code",
   "execution_count": 34,
   "metadata": {},
   "outputs": [
    {
     "name": "stdout",
     "output_type": "stream",
     "text": [
      "PID: 1.100\n",
      "description: blafasdf\n",
      "plant_part: \n",
      "line_number: \n",
      "Element number: -1\n"
     ]
    }
   ],
   "source": [
    "motor1.elementlistdata()"
   ]
  },
  {
   "cell_type": "code",
   "execution_count": 35,
   "metadata": {},
   "outputs": [],
   "source": [
    "#Append object Motor to a list\n",
    "motor_list = []\n",
    "motor_list.append(Motor(\"1.110\",\"Intake air fan\"))\n",
    "motor_list.append(Motor(\"1.150\",\"Exhaust air fan\"))\n",
    "motor_list.append(Motor(\"1.160\",\"Intake air fan\"))"
   ]
  },
  {
   "cell_type": "code",
   "execution_count": 36,
   "metadata": {},
   "outputs": [
    {
     "name": "stdout",
     "output_type": "stream",
     "text": [
      "PID: 1.110\n",
      "description: Intake air fan\n",
      "plant_part: \n",
      "line_number: \n",
      "Element number: -1\n",
      "****************************\n",
      "PID: 1.150\n",
      "description: Exhaust air fan\n",
      "plant_part: \n",
      "line_number: \n",
      "Element number: -1\n",
      "****************************\n",
      "PID: 1.160\n",
      "description: Intake air fan\n",
      "plant_part: \n",
      "line_number: \n",
      "Element number: -1\n",
      "****************************\n"
     ]
    }
   ],
   "source": [
    "for motores in motor_list:\n",
    "    motores.elementlistdata()\n",
    "    print(\"****************************\")"
   ]
  },
  {
   "cell_type": "code",
   "execution_count": 37,
   "metadata": {},
   "outputs": [
    {
     "name": "stdout",
     "output_type": "stream",
     "text": [
      "[\n",
      "From __repr__ method of Motor: \n",
      "PID:1.110 Description:Intake air fan, \n",
      "From __repr__ method of Motor: \n",
      "PID:1.150 Description:Exhaust air fan, \n",
      "From __repr__ method of Motor: \n",
      "PID:1.160 Description:Intake air fan]\n"
     ]
    }
   ],
   "source": [
    "#Print of list of objects\n",
    "print(motor_list)"
   ]
  },
  {
   "cell_type": "code",
   "execution_count": null,
   "metadata": {},
   "outputs": [],
   "source": []
  },
  {
   "cell_type": "code",
   "execution_count": 38,
   "metadata": {},
   "outputs": [
    {
     "name": "stdout",
     "output_type": "stream",
     "text": [
      "Sorted by PID\n",
      "[\n",
      "From __repr__ method of Motor: \n",
      "PID:1.110 Description:Intake air fan, \n",
      "From __repr__ method of Motor: \n",
      "PID:1.150 Description:Exhaust air fan, \n",
      "From __repr__ method of Motor: \n",
      "PID:1.160 Description:Intake air fan]\n"
     ]
    }
   ],
   "source": [
    "sortedByPid = sorted(motor_list, key= lambda x : x.pid)\n",
    "print(\"Sorted by PID\")\n",
    "print(sortedByPid)"
   ]
  },
  {
   "cell_type": "code",
   "execution_count": 39,
   "metadata": {},
   "outputs": [
    {
     "name": "stdout",
     "output_type": "stream",
     "text": [
      "PID: 1.110\n",
      "description: Intake air fan\n",
      "plant_part: \n",
      "line_number: \n",
      "Element number: -1\n"
     ]
    }
   ],
   "source": [
    "motor_list[0].elementlistdata()"
   ]
  },
  {
   "cell_type": "code",
   "execution_count": 40,
   "metadata": {},
   "outputs": [
    {
     "name": "stdout",
     "output_type": "stream",
     "text": [
      "3\n"
     ]
    }
   ],
   "source": [
    "#Print lenght motores\n",
    "print(len(motor_list))"
   ]
  },
  {
   "cell_type": "code",
   "execution_count": 41,
   "metadata": {},
   "outputs": [
    {
     "name": "stdout",
     "output_type": "stream",
     "text": [
      "PID: 1.111\n",
      "description: Intake air fan\n",
      "plant_part: \n",
      "line_number: \n",
      "Element number: -1\n"
     ]
    }
   ],
   "source": [
    "#Access objects from a list\n",
    "motor_list[0].pid = '1.111'\n",
    "motor_list[0].elementlistdata()"
   ]
  },
  {
   "cell_type": "code",
   "execution_count": 42,
   "metadata": {},
   "outputs": [],
   "source": [
    "#Change values in a list\n",
    "#for items in motor_list:\n",
    "#    items.pid = \"1.112\"\n",
    "#    #items.elementlistdata()\n",
    "#    print(items)\n",
    "    "
   ]
  },
  {
   "cell_type": "code",
   "execution_count": 43,
   "metadata": {},
   "outputs": [
    {
     "name": "stdout",
     "output_type": "stream",
     "text": [
      "NO, 'apple' is not here\n"
     ]
    }
   ],
   "source": [
    "if \"1.110\" in motor_list[0].pid:\n",
    "  print(\"Yes, '1.110' is in the motor list\") \n",
    "else:\n",
    "    print(\"NO, 'apple' is not here\") "
   ]
  },
  {
   "cell_type": "code",
   "execution_count": 44,
   "metadata": {},
   "outputs": [
    {
     "name": "stdout",
     "output_type": "stream",
     "text": [
      "NO, 'apple' is not here\n",
      "NO, 'apple' is not here\n",
      "NO, 'apple' is not here\n"
     ]
    }
   ],
   "source": [
    "for items in motor_list:\n",
    "    if \"1.110\" in items.pid:\n",
    "        #items.elementlistdata()\n",
    "        #print(items)\n",
    "        print(\"Yes, '1.110' is in the motor list\") \n",
    "        print(\"at the index: \")\n",
    "        print(motor_list.index(items))\n",
    "    else:\n",
    "        print(\"NO, 'apple' is not here\") "
   ]
  },
  {
   "cell_type": "code",
   "execution_count": 45,
   "metadata": {},
   "outputs": [],
   "source": [
    "#motor_list.append(Motor(\"1.110\",\"Intake air fan\"))\n",
    "motor_list.insert(1,Motor(\"en el index position 1\",\"Recirculation air fan\"))\n"
   ]
  },
  {
   "cell_type": "code",
   "execution_count": null,
   "metadata": {},
   "outputs": [],
   "source": []
  },
  {
   "cell_type": "code",
   "execution_count": 46,
   "metadata": {},
   "outputs": [
    {
     "name": "stdout",
     "output_type": "stream",
     "text": [
      "PID: 1.111\n",
      "description: Intake air fan\n",
      "plant_part: \n",
      "line_number: \n",
      "Element number: -1\n",
      "****************************\n",
      "PID: en el index position 1\n",
      "description: Recirculation air fan\n",
      "plant_part: \n",
      "line_number: \n",
      "Element number: -1\n",
      "****************************\n",
      "PID: 1.150\n",
      "description: Exhaust air fan\n",
      "plant_part: \n",
      "line_number: \n",
      "Element number: -1\n",
      "****************************\n",
      "PID: 1.160\n",
      "description: Intake air fan\n",
      "plant_part: \n",
      "line_number: \n",
      "Element number: -1\n",
      "****************************\n"
     ]
    }
   ],
   "source": [
    "for motores in motor_list:\n",
    "    motores.elementlistdata()\n",
    "    print(\"****************************\")\n"
   ]
  },
  {
   "cell_type": "code",
   "execution_count": 47,
   "metadata": {},
   "outputs": [],
   "source": [
    "#User input: ask for PID number\n",
    "#x_pid = input(\"Type pid number: \")\n",
    "#motor_list.append(Motor(x_pid))"
   ]
  },
  {
   "cell_type": "code",
   "execution_count": 48,
   "metadata": {},
   "outputs": [
    {
     "name": "stdout",
     "output_type": "stream",
     "text": [
      "1.100\n"
     ]
    }
   ],
   "source": [
    "import random\n",
    "\n",
    "mylist = [\"1.100\", \"1.110\", \"1.120\", \"1.130\", \"1.140\", \"1.150\"]\n",
    "\n",
    "print(random.choice(mylist))"
   ]
  },
  {
   "cell_type": "code",
   "execution_count": null,
   "metadata": {},
   "outputs": [],
   "source": []
  },
  {
   "cell_type": "code",
   "execution_count": 49,
   "metadata": {},
   "outputs": [],
   "source": [
    "#Clear list - delete all\n",
    "motor_list.clear()"
   ]
  },
  {
   "cell_type": "code",
   "execution_count": 50,
   "metadata": {},
   "outputs": [
    {
     "name": "stdout",
     "output_type": "stream",
     "text": [
      "The time of execution of above program is : 1.3457043170928955\n"
     ]
    }
   ],
   "source": [
    "# now we have initialized the variable\n",
    "# end to store the ending time after\n",
    "# execution of program\n",
    "end = time.time()\n",
    " \n",
    "# difference of start and end variables\n",
    "# gives the time of execution of the\n",
    "# program in between\n",
    "print(\"The time of execution of above program is :\", end-start)"
   ]
  },
  {
   "cell_type": "code",
   "execution_count": 51,
   "metadata": {},
   "outputs": [],
   "source": [
    "#MOdificacuib\n",
    "\n"
   ]
  }
 ],
 "metadata": {
  "kernelspec": {
   "display_name": "Python 3.9.12 ('base')",
   "language": "python",
   "name": "python3"
  },
  "language_info": {
   "codemirror_mode": {
    "name": "ipython",
    "version": 3
   },
   "file_extension": ".py",
   "mimetype": "text/x-python",
   "name": "python",
   "nbconvert_exporter": "python",
   "pygments_lexer": "ipython3",
   "version": "3.9.12"
  },
  "orig_nbformat": 4,
  "vscode": {
   "interpreter": {
    "hash": "77fe7f394e6233d2bf48f208122493e7b5d7499c90a22c2f89a7d992d484fad0"
   }
  }
 },
 "nbformat": 4,
 "nbformat_minor": 2
}
