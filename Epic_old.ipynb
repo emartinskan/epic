{
 "cells": [
  {
   "cell_type": "markdown",
   "metadata": {},
   "source": [
    "E.P.I.C (Extended PID Configuration)"
   ]
  },
  {
   "cell_type": "code",
   "execution_count": 1,
   "metadata": {},
   "outputs": [],
   "source": [
    "#Import libraries\n",
    "import pandas as pd\n",
    "import numpy as np\n",
    "#Cambia todo el formato de pandas . no recomendable\n",
    "#pd.options.display.float_format = '{:,.3f}'.format\n"
   ]
  },
  {
   "cell_type": "markdown",
   "metadata": {},
   "source": [
    "#Python Collections (Arrays)\n",
    "\n",
    "#There are four collection data types in the Python programming language:\n",
    "\n",
    " #   List is a collection which is ordered and changeable. Allows duplicate members.\n",
    " #   Tuple is a collection which is ordered and unchangeable. Allows duplicate members.\n",
    " #   Set is a collection which is unordered, unchangeable*, and unindexed. No duplicate members.\n",
    " #   Dictionary is a collection which is ordered** and changeable. No duplicate members. \n",
    " #   When we say that dictionaries are ordered, it means that the items have a defined order, and that order will not change.\n",
    " #   Unordered means that the items does not have a defined order, you cannot refer to an item by using an index."
   ]
  },
  {
   "cell_type": "code",
   "execution_count": 2,
   "metadata": {},
   "outputs": [
    {
     "data": {
      "text/plain": [
       "'c:\\\\Users\\\\automation\\\\Desktop\\\\DataAnalisisPID'"
      ]
     },
     "execution_count": 2,
     "metadata": {},
     "output_type": "execute_result"
    }
   ],
   "source": [
    "pwd"
   ]
  },
  {
   "cell_type": "code",
   "execution_count": 3,
   "metadata": {},
   "outputs": [],
   "source": [
    "#Load PID data into a dataframe\n",
    "#In Sublime text, select \"Saving with encoding: utf-8\"\n",
    "#https://stackoverflow.com/questions/18171739/unicodedecodeerror-when-reading-csv-file-in-pandas-with-python\n",
    "#Delete last empty row of the csv file.\n",
    "df_raw_data = pd.read_csv('PID.csv', encoding = \"utf-8\", engine='python')"
   ]
  },
  {
   "cell_type": "code",
   "execution_count": 4,
   "metadata": {},
   "outputs": [
    {
     "data": {
      "text/html": [
       "<div>\n",
       "<style scoped>\n",
       "    .dataframe tbody tr th:only-of-type {\n",
       "        vertical-align: middle;\n",
       "    }\n",
       "\n",
       "    .dataframe tbody tr th {\n",
       "        vertical-align: top;\n",
       "    }\n",
       "\n",
       "    .dataframe thead th {\n",
       "        text-align: right;\n",
       "    }\n",
       "</style>\n",
       "<table border=\"1\" class=\"dataframe\">\n",
       "  <thead>\n",
       "    <tr style=\"text-align: right;\">\n",
       "      <th></th>\n",
       "      <th>ShapeKey</th>\n",
       "      <th>Prop_PID_Element</th>\n",
       "      <th>Prop_PID_Number</th>\n",
       "    </tr>\n",
       "  </thead>\n",
       "  <tbody>\n",
       "    <tr>\n",
       "      <th>0</th>\n",
       "      <td>16872</td>\n",
       "      <td>W</td>\n",
       "      <td>1.00</td>\n",
       "    </tr>\n",
       "    <tr>\n",
       "      <th>1</th>\n",
       "      <td>16944</td>\n",
       "      <td>W</td>\n",
       "      <td>2.00</td>\n",
       "    </tr>\n",
       "    <tr>\n",
       "      <th>2</th>\n",
       "      <td>16125</td>\n",
       "      <td>XA</td>\n",
       "      <td>1.10</td>\n",
       "    </tr>\n",
       "    <tr>\n",
       "      <th>3</th>\n",
       "      <td>16126</td>\n",
       "      <td>SC</td>\n",
       "      <td>1.10</td>\n",
       "    </tr>\n",
       "    <tr>\n",
       "      <th>4</th>\n",
       "      <td>14434</td>\n",
       "      <td>M</td>\n",
       "      <td>1.10</td>\n",
       "    </tr>\n",
       "    <tr>\n",
       "      <th>...</th>\n",
       "      <td>...</td>\n",
       "      <td>...</td>\n",
       "      <td>...</td>\n",
       "    </tr>\n",
       "    <tr>\n",
       "      <th>299</th>\n",
       "      <td>34799</td>\n",
       "      <td>XA</td>\n",
       "      <td>2.34</td>\n",
       "    </tr>\n",
       "    <tr>\n",
       "      <th>300</th>\n",
       "      <td>34812</td>\n",
       "      <td>XA</td>\n",
       "      <td>2.35</td>\n",
       "    </tr>\n",
       "    <tr>\n",
       "      <th>301</th>\n",
       "      <td>34813</td>\n",
       "      <td>P</td>\n",
       "      <td>2.35</td>\n",
       "    </tr>\n",
       "    <tr>\n",
       "      <th>302</th>\n",
       "      <td>18619</td>\n",
       "      <td>SIA±</td>\n",
       "      <td>2.82</td>\n",
       "    </tr>\n",
       "    <tr>\n",
       "      <th>303</th>\n",
       "      <td>15757</td>\n",
       "      <td>L</td>\n",
       "      <td>2.99</td>\n",
       "    </tr>\n",
       "  </tbody>\n",
       "</table>\n",
       "<p>304 rows × 3 columns</p>\n",
       "</div>"
      ],
      "text/plain": [
       "     ShapeKey Prop_PID_Element  Prop_PID_Number\n",
       "0       16872                W             1.00\n",
       "1       16944                W             2.00\n",
       "2       16125               XA             1.10\n",
       "3       16126               SC             1.10\n",
       "4       14434                M             1.10\n",
       "..        ...              ...              ...\n",
       "299     34799               XA             2.34\n",
       "300     34812               XA             2.35\n",
       "301     34813                P             2.35\n",
       "302     18619             SIA±             2.82\n",
       "303     15757                L             2.99\n",
       "\n",
       "[304 rows x 3 columns]"
      ]
     },
     "execution_count": 4,
     "metadata": {},
     "output_type": "execute_result"
    }
   ],
   "source": [
    "#Print data raw\n",
    "df_raw_data"
   ]
  },
  {
   "cell_type": "code",
   "execution_count": 5,
   "metadata": {},
   "outputs": [
    {
     "data": {
      "text/plain": [
       "ShapeKey              int64\n",
       "Prop_PID_Element     object\n",
       "Prop_PID_Number     float64\n",
       "dtype: object"
      ]
     },
     "execution_count": 5,
     "metadata": {},
     "output_type": "execute_result"
    }
   ],
   "source": [
    "#datatypes of each column\n",
    "df_raw_data.dtypes"
   ]
  },
  {
   "cell_type": "code",
   "execution_count": 6,
   "metadata": {},
   "outputs": [],
   "source": [
    "#3 decimals for PID\n",
    "df_raw_data['Prop_PID_Number'] = df_raw_data['Prop_PID_Number'].apply(lambda x: f'{x:.3f}')"
   ]
  },
  {
   "cell_type": "code",
   "execution_count": 7,
   "metadata": {},
   "outputs": [
    {
     "data": {
      "text/plain": [
       "ShapeKey             int64\n",
       "Prop_PID_Element    object\n",
       "Prop_PID_Number     object\n",
       "dtype: object"
      ]
     },
     "execution_count": 7,
     "metadata": {},
     "output_type": "execute_result"
    }
   ],
   "source": [
    "#datatypes of each column\n",
    "df_raw_data.dtypes"
   ]
  },
  {
   "cell_type": "code",
   "execution_count": 8,
   "metadata": {},
   "outputs": [
    {
     "data": {
      "text/html": [
       "<div>\n",
       "<style scoped>\n",
       "    .dataframe tbody tr th:only-of-type {\n",
       "        vertical-align: middle;\n",
       "    }\n",
       "\n",
       "    .dataframe tbody tr th {\n",
       "        vertical-align: top;\n",
       "    }\n",
       "\n",
       "    .dataframe thead th {\n",
       "        text-align: right;\n",
       "    }\n",
       "</style>\n",
       "<table border=\"1\" class=\"dataframe\">\n",
       "  <thead>\n",
       "    <tr style=\"text-align: right;\">\n",
       "      <th></th>\n",
       "      <th>ShapeKey</th>\n",
       "      <th>Prop_PID_Element</th>\n",
       "      <th>Prop_PID_Number</th>\n",
       "    </tr>\n",
       "  </thead>\n",
       "  <tbody>\n",
       "    <tr>\n",
       "      <th>0</th>\n",
       "      <td>16872</td>\n",
       "      <td>W</td>\n",
       "      <td>1.000</td>\n",
       "    </tr>\n",
       "    <tr>\n",
       "      <th>1</th>\n",
       "      <td>16944</td>\n",
       "      <td>W</td>\n",
       "      <td>2.000</td>\n",
       "    </tr>\n",
       "    <tr>\n",
       "      <th>2</th>\n",
       "      <td>16125</td>\n",
       "      <td>XA</td>\n",
       "      <td>1.100</td>\n",
       "    </tr>\n",
       "    <tr>\n",
       "      <th>3</th>\n",
       "      <td>16126</td>\n",
       "      <td>SC</td>\n",
       "      <td>1.100</td>\n",
       "    </tr>\n",
       "    <tr>\n",
       "      <th>4</th>\n",
       "      <td>14434</td>\n",
       "      <td>M</td>\n",
       "      <td>1.100</td>\n",
       "    </tr>\n",
       "    <tr>\n",
       "      <th>...</th>\n",
       "      <td>...</td>\n",
       "      <td>...</td>\n",
       "      <td>...</td>\n",
       "    </tr>\n",
       "    <tr>\n",
       "      <th>299</th>\n",
       "      <td>34799</td>\n",
       "      <td>XA</td>\n",
       "      <td>2.340</td>\n",
       "    </tr>\n",
       "    <tr>\n",
       "      <th>300</th>\n",
       "      <td>34812</td>\n",
       "      <td>XA</td>\n",
       "      <td>2.350</td>\n",
       "    </tr>\n",
       "    <tr>\n",
       "      <th>301</th>\n",
       "      <td>34813</td>\n",
       "      <td>P</td>\n",
       "      <td>2.350</td>\n",
       "    </tr>\n",
       "    <tr>\n",
       "      <th>302</th>\n",
       "      <td>18619</td>\n",
       "      <td>SIA±</td>\n",
       "      <td>2.820</td>\n",
       "    </tr>\n",
       "    <tr>\n",
       "      <th>303</th>\n",
       "      <td>15757</td>\n",
       "      <td>L</td>\n",
       "      <td>2.990</td>\n",
       "    </tr>\n",
       "  </tbody>\n",
       "</table>\n",
       "<p>304 rows × 3 columns</p>\n",
       "</div>"
      ],
      "text/plain": [
       "     ShapeKey Prop_PID_Element Prop_PID_Number\n",
       "0       16872                W           1.000\n",
       "1       16944                W           2.000\n",
       "2       16125               XA           1.100\n",
       "3       16126               SC           1.100\n",
       "4       14434                M           1.100\n",
       "..        ...              ...             ...\n",
       "299     34799               XA           2.340\n",
       "300     34812               XA           2.350\n",
       "301     34813                P           2.350\n",
       "302     18619             SIA±           2.820\n",
       "303     15757                L           2.990\n",
       "\n",
       "[304 rows x 3 columns]"
      ]
     },
     "execution_count": 8,
     "metadata": {},
     "output_type": "execute_result"
    }
   ],
   "source": [
    "#Print data raw\n",
    "df_raw_data"
   ]
  },
  {
   "cell_type": "code",
   "execution_count": 9,
   "metadata": {},
   "outputs": [
    {
     "data": {
      "text/plain": [
       "Index(['ShapeKey', 'Prop_PID_Element', 'Prop_PID_Number'], dtype='object')"
      ]
     },
     "execution_count": 9,
     "metadata": {},
     "output_type": "execute_result"
    }
   ],
   "source": [
    "#Show headers\n",
    "df_raw_data.columns"
   ]
  },
  {
   "cell_type": "code",
   "execution_count": 10,
   "metadata": {},
   "outputs": [],
   "source": [
    "#Filter data (#Select 2 columns using [[]])\n",
    "df_filtered_data = df_raw_data[['Prop_PID_Number','Prop_PID_Element']]"
   ]
  },
  {
   "cell_type": "code",
   "execution_count": 11,
   "metadata": {},
   "outputs": [
    {
     "data": {
      "text/html": [
       "<div>\n",
       "<style scoped>\n",
       "    .dataframe tbody tr th:only-of-type {\n",
       "        vertical-align: middle;\n",
       "    }\n",
       "\n",
       "    .dataframe tbody tr th {\n",
       "        vertical-align: top;\n",
       "    }\n",
       "\n",
       "    .dataframe thead th {\n",
       "        text-align: right;\n",
       "    }\n",
       "</style>\n",
       "<table border=\"1\" class=\"dataframe\">\n",
       "  <thead>\n",
       "    <tr style=\"text-align: right;\">\n",
       "      <th></th>\n",
       "      <th>Prop_PID_Number</th>\n",
       "      <th>Prop_PID_Element</th>\n",
       "    </tr>\n",
       "  </thead>\n",
       "  <tbody>\n",
       "    <tr>\n",
       "      <th>0</th>\n",
       "      <td>1.000</td>\n",
       "      <td>W</td>\n",
       "    </tr>\n",
       "    <tr>\n",
       "      <th>1</th>\n",
       "      <td>2.000</td>\n",
       "      <td>W</td>\n",
       "    </tr>\n",
       "    <tr>\n",
       "      <th>2</th>\n",
       "      <td>1.100</td>\n",
       "      <td>XA</td>\n",
       "    </tr>\n",
       "    <tr>\n",
       "      <th>3</th>\n",
       "      <td>1.100</td>\n",
       "      <td>SC</td>\n",
       "    </tr>\n",
       "    <tr>\n",
       "      <th>4</th>\n",
       "      <td>1.100</td>\n",
       "      <td>M</td>\n",
       "    </tr>\n",
       "    <tr>\n",
       "      <th>...</th>\n",
       "      <td>...</td>\n",
       "      <td>...</td>\n",
       "    </tr>\n",
       "    <tr>\n",
       "      <th>299</th>\n",
       "      <td>2.340</td>\n",
       "      <td>XA</td>\n",
       "    </tr>\n",
       "    <tr>\n",
       "      <th>300</th>\n",
       "      <td>2.350</td>\n",
       "      <td>XA</td>\n",
       "    </tr>\n",
       "    <tr>\n",
       "      <th>301</th>\n",
       "      <td>2.350</td>\n",
       "      <td>P</td>\n",
       "    </tr>\n",
       "    <tr>\n",
       "      <th>302</th>\n",
       "      <td>2.820</td>\n",
       "      <td>SIA±</td>\n",
       "    </tr>\n",
       "    <tr>\n",
       "      <th>303</th>\n",
       "      <td>2.990</td>\n",
       "      <td>L</td>\n",
       "    </tr>\n",
       "  </tbody>\n",
       "</table>\n",
       "<p>304 rows × 2 columns</p>\n",
       "</div>"
      ],
      "text/plain": [
       "    Prop_PID_Number Prop_PID_Element\n",
       "0             1.000                W\n",
       "1             2.000                W\n",
       "2             1.100               XA\n",
       "3             1.100               SC\n",
       "4             1.100                M\n",
       "..              ...              ...\n",
       "299           2.340               XA\n",
       "300           2.350               XA\n",
       "301           2.350                P\n",
       "302           2.820             SIA±\n",
       "303           2.990                L\n",
       "\n",
       "[304 rows x 2 columns]"
      ]
     },
     "execution_count": 11,
     "metadata": {},
     "output_type": "execute_result"
    }
   ],
   "source": [
    "#print filtered data\n",
    "df_filtered_data"
   ]
  },
  {
   "cell_type": "code",
   "execution_count": 12,
   "metadata": {},
   "outputs": [
    {
     "ename": "SyntaxError",
     "evalue": "invalid syntax (Temp/ipykernel_5268/616192224.py, line 9)",
     "output_type": "error",
     "traceback": [
      "\u001b[1;36m  File \u001b[1;32m\"C:\\Users\\AUTOMA~1\\AppData\\Local\\Temp/ipykernel_5268/616192224.py\"\u001b[1;36m, line \u001b[1;32m9\u001b[0m\n\u001b[1;33m    while\u001b[0m\n\u001b[1;37m         ^\u001b[0m\n\u001b[1;31mSyntaxError\u001b[0m\u001b[1;31m:\u001b[0m invalid syntax\n"
     ]
    }
   ],
   "source": [
    "#Find duplicates values\n",
    "\n",
    "s = df_filtered_data['Prop_PID_Number'].duplicated()\n",
    "#print(s)\n",
    "#s.size()\n",
    "duplicated_list = s.tolist()\n",
    "\n",
    "for items in duplicated_list:\n",
    "    while\n",
    "        print(items)\n"
   ]
  },
  {
   "cell_type": "code",
   "execution_count": null,
   "metadata": {},
   "outputs": [],
   "source": [
    "#datatypes of each column\n",
    "df_filtered_data.dtypes"
   ]
  },
  {
   "cell_type": "markdown",
   "metadata": {},
   "source": [
    "Find uniques values for PID and Elements\n",
    "Create a database with PID and which elements contain:\n",
    "#List items are ordered, changeable, and allow duplicate values.\n",
    "pid_list = [\n",
    "    {'PID':'1.100','Description':'Intake air fan','Elements':{'XA':True,'SC':True,'M':'True','V':True,'PDI':False,'TSA+':False,'F':False,'C':False},'SW_module':'S_MOTOR1'},\n",
    "    {'PID':'1.160','Description':'Intake air fan','Elements':{'XA':True,'SC':True,'M':'True','V':True,'PDI':False,'TSA+':False,'F':False,'C':False},'SW_module':'S_MOTOR1'},\n",
    "    {'PID':'1.150','Description':'Exhaust air fan','Elements':{'XA':False,'SC':True,'M':'True','V':False,'PDI':False,'TSA+':True,'F':False,'C':False},'SW_module':'S_MOTOR1'},\n",
    "    {'PID':'1.200','Description':'Recirculation air fan','Elements':{'XA':True,'SC':True,'M':'True','V':True,'PDI':False,'TSA+':False,'F':False,'C':False},'SW_module':'S_MOTOR1'},\n",
    "    {'PID':'1.210','Description':'Recirculation air fan','Elements':{'XA':True,'SC':True,'M':'True','V':True,'PDI':False,'TSA+':False,'F':False,'C':False},'SW_module':'S_MOTOR1'},\n",
    "    {'PID':'1.218','Description':'Differencial presure','Elements':{'XA':False,'SC':False,'M':'False','V':False,'PDI':True,'TSA+':False,'F':False,'C':False},'SW_module':'S_LIMIT_HI_LO'}\n",
    "]"
   ]
  },
  {
   "cell_type": "code",
   "execution_count": null,
   "metadata": {},
   "outputs": [],
   "source": [
    "#PID number to list\n",
    "pid_list = list(df_filtered_data['Prop_PID_Number'])\n",
    "pid_list.sort()\n",
    "print(pid_list)"
   ]
  },
  {
   "cell_type": "code",
   "execution_count": null,
   "metadata": {},
   "outputs": [],
   "source": [
    "len(pid_list)"
   ]
  },
  {
   "cell_type": "code",
   "execution_count": null,
   "metadata": {},
   "outputs": [],
   "source": [
    "#Remove duplicates\n",
    "pid_list = list(dict.fromkeys(pid_list))\n",
    "print(pid_list)"
   ]
  },
  {
   "cell_type": "code",
   "execution_count": null,
   "metadata": {},
   "outputs": [],
   "source": [
    "len(pid_list)"
   ]
  },
  {
   "cell_type": "code",
   "execution_count": null,
   "metadata": {},
   "outputs": [],
   "source": [
    "#Remove unexistent PIDs\n",
    "#Improve using regular expresions\n",
    "pid_list.remove(\"1.000\") #as example\n",
    "print(pid_list)"
   ]
  },
  {
   "cell_type": "code",
   "execution_count": null,
   "metadata": {},
   "outputs": [],
   "source": [
    "#Elements to list\n",
    "element_list = list(df_filtered_data['Prop_PID_Element'])\n",
    "element_list.sort()\n",
    "print(element_list)"
   ]
  },
  {
   "cell_type": "code",
   "execution_count": null,
   "metadata": {},
   "outputs": [],
   "source": [
    "len(element_list)"
   ]
  },
  {
   "cell_type": "code",
   "execution_count": null,
   "metadata": {},
   "outputs": [],
   "source": [
    "#Remove duplicates\n",
    "element_list = list(dict.fromkeys(element_list))\n",
    "print(element_list)"
   ]
  },
  {
   "cell_type": "code",
   "execution_count": null,
   "metadata": {},
   "outputs": [],
   "source": [
    "len(element_list)"
   ]
  },
  {
   "cell_type": "code",
   "execution_count": null,
   "metadata": {},
   "outputs": [],
   "source": [
    "#Create a datatype to save data of pid\n",
    "from dataclasses import dataclass, field\n",
    "\n",
    "@dataclass\n",
    "class PID:\n",
    "    number: str  = \"X.XXX\"\n",
    "    description : str = \"Description\"\n",
    "\n"
   ]
  },
  {
   "cell_type": "code",
   "execution_count": null,
   "metadata": {},
   "outputs": [],
   "source": [
    "#Try to create a list of dataclases\n",
    "epic_list = []\n",
    "for pids_numbers in pid_list:\n",
    "    epic_list.append( PID(pids_numbers,\"Description\") )"
   ]
  },
  {
   "cell_type": "code",
   "execution_count": null,
   "metadata": {},
   "outputs": [],
   "source": [
    "#print(epic_list)\n",
    "\n",
    "for obj in epic_list:\n",
    "    print(obj.number, obj.description)\n"
   ]
  },
  {
   "cell_type": "code",
   "execution_count": null,
   "metadata": {},
   "outputs": [],
   "source": [
    "\n",
    "    \n",
    "\n",
    "\n"
   ]
  }
 ],
 "metadata": {
  "kernelspec": {
   "display_name": "Python 3.9.12 ('base')",
   "language": "python",
   "name": "python3"
  },
  "language_info": {
   "codemirror_mode": {
    "name": "ipython",
    "version": 3
   },
   "file_extension": ".py",
   "mimetype": "text/x-python",
   "name": "python",
   "nbconvert_exporter": "python",
   "pygments_lexer": "ipython3",
   "version": "3.9.12"
  },
  "orig_nbformat": 4,
  "vscode": {
   "interpreter": {
    "hash": "77fe7f394e6233d2bf48f208122493e7b5d7499c90a22c2f89a7d992d484fad0"
   }
  }
 },
 "nbformat": 4,
 "nbformat_minor": 2
}
