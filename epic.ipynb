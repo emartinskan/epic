+-----+-------------------+-----------------------------------+--------------------------------------+
|     |   Prop_PID_Number | Prop_PID_Element                  | Tag_Number_Definition                |
|-----+-------------------+-----------------------------------+--------------------------------------|
|   0 |             1.1   | ['M', 'SC', 'V', 'XA']            | Intake air fan                       |
|   1 |             1.108 | ['PDI']                           | Diferential pressure sensor          |
|   2 |             1.15  | ['M', 'SC', 'TSA+', 'V']          | Exhaust air fan                      |
|   3 |             1.158 | ['PDI']                           | Diferential pressure sensor          |
|   4 |             1.16  | ['M', 'SC', 'V', 'XA']            | Exhaust air fan                      |
|   5 |             1.2   | ['M', 'SC', 'V', 'XA']            | Recirculation fan                    |
|   6 |             1.208 | ['PDI']                           | Diferential pressure sensor          |
|   7 |             1.21  | ['M', 'SC', 'V', 'XA']            | Recirculation fan                    |
|   8 |             1.218 | ['PDI']                           | Diferential pressure sensor          |
|   9 |             1.24  | ['M', 'SC', 'V', 'XA']            | Recirculation fan                    |
|  10 |             1.248 | ['PDI']                           | Diferential pressure sensor          |
|  11 |             1.3   | ['FA-', 'QIA+', 'XA']             | Particle counter                     |
|  12 |             1.304 | ['M', 'P']                        | Vacuum pump                          |
|  13 |             1.305 | ['GSA+', 'GSA-', 'V', 'Y']        | 3-way valve                          |
|  14 |             1.308 | ['FSA-']                          | Flow-Switch                          |
|  15 |             1.31  | ['FA-', 'QIA+', 'XA']             | Particle counter                     |
|  16 |             1.314 | ['M', 'P']                        | Vacuum pump                          |
|  17 |             1.315 | ['GSA+', 'GSA-', 'V', 'Y']        | 3-way valve                          |
|  18 |             1.318 | ['FSA-']                          | Flow-Switch                          |
|  19 |             1.32  | ['FA-', 'QIA+', 'XA']             | Particle counter                     |
|  20 |             1.324 | ['M', 'P']                        | Vacuum pump                          |
|  21 |             1.325 | ['GSA+', 'GSA-', 'V', 'Y']        | 3-way valve                          |
|  22 |             1.328 | ['FSA-']                          | Flow-Switch                          |
|  23 |             1.33  | ['FA-', 'QIA+', 'XA']             | Particle counter                     |
|  24 |             1.334 | ['M', 'P']                        | Vacuum pump                          |
|  25 |             1.335 | ['GSA+', 'GSA-', 'V', 'Y']        | 3-way valve                          |
|  26 |             1.338 | ['FSA-']                          | Flow-Switch                          |
|  27 |             1.35  | ['P', 'XA']                       | Air sampler                          |
|  28 |             1.36  | ['P', 'XA']                       | Air sampler                          |
|  29 |             1.37  | ['P', 'XA']                       | Air sampler                          |
|  30 |             1.4   | ['GIA+', 'GIA-', 'M', 'SC', 'XA'] | Automatic Mousehole                  |
|  31 |             1.41  | ['GIA+', 'GIA-', 'M', 'SC', 'XA'] | nan                                  |
|  32 |             1.5   | ['GSA+', 'GSA-', 'K', 'Y']        | Supply air flap                      |
|  33 |             1.51  | ['GSA+', 'GSA-', 'K', 'Y']        | Flap                                 |
|  34 |             1.52  | ['GSA+', 'GSA-', 'K', 'Y']        | Flap                                 |
|  35 |             1.55  | ['GIA', 'K', 'Y', 'YC']           | Exhaust air flap                     |
|  36 |             1.555 | ['GIA', 'V', 'Y', 'YC']           | Exhaust bypass valve                 |
|  37 |             1.558 | ['PDIS']                          | Diferential pressure sensor          |
|  38 |             1.56  | ['GIA', 'K', 'Y', 'YC']           | Exhaust air flap                     |
|  39 |             1.568 | ['PDIS']                          | Diferential pressure sensor          |
|  40 |             1.57  | ['GSA+', 'GSA-', 'K', 'Y']        | Flap                                 |
|  41 |             1.651 | ['M', 'P']                        | Circulating pump                     |
|  43 |             1.655 | ['H', 'M', 'NC']                  | Control valve                        |
|  45 |             1.68  | ['EC', 'TSA+']                    | Electric heating                     |
|  46 |             1.688 | ['TIC']                           | Temperature sensor                   |
|  47 |             1.69  | ['T', 'XA']                       | Dryer / Humidifier                   |
|  48 |             1.7   | ['M', 'P', 'SC']                  | Peristaltic pump                     |
|  49 |             1.705 | ['LSA-']                          | Flow Switch H2O2                     |
|  50 |             1.706 | ['V']                             | Control valve compressed air         |
|  51 |             1.707 | ['V', 'YC']                       | Needle valve compressed air          |
|  52 |             1.708 | ['FICA±']                         | Flow switch compressed air           |
|  53 |             1.71  | ['M', 'P', 'SC']                  | Peristaltic pump                     |
|  54 |             1.715 | ['LSA-']                          | Flow Switch H2O2                     |
|  55 |             1.716 | ['V']                             | Control valve compressed air         |
|  56 |             1.717 | ['V', 'YC']                       | Needle valve compressed air          |
|  57 |             1.718 | ['FICA±']                         | Flow switch compressed air           |
|  58 |             1.72  | ['M', 'P', 'SC']                  | Peristaltic pump                     |
|  59 |             1.725 | ['LSA-']                          | Flow Switch H2O2                     |
|  60 |             1.726 | ['V']                             | Control valve compressed air         |
|  61 |             1.727 | ['V', 'YC']                       | Needle valve compressed air          |
|  62 |             1.728 | ['FICA±']                         | Flow switch compressed air           |
|  63 |             1.746 | ['V']                             | Control valve compressed air         |
|  64 |             1.8   | ['TICA±']                         | Temperature sensor                   |
|  65 |             1.81  | ['MIA±']                          | Humidity sensor                      |
|  66 |             1.815 | ['WICA±']                         | Weight scale                         |
|  67 |             1.816 | ['WICA±']                         | Weight scale                         |
|  68 |             1.82  | ['SIA±']                          | Air speed sensor                     |
|  69 |             1.825 | ['FIA+', 'H', 'YC']               | Flow rate sensor                     |
|  70 |             1.83  | ['M', 'P', 'QIA+', 'XA']          | H2O2 LC sensor                       |
|  71 |             1.831 | ['GSA+', 'GSA-', 'V', 'Y']        | H2O2 LC valve                        |
|  72 |             1.832 | ['QIA-']                          | H2O2 HC sensor                       |
|  73 |             1.833 | ['QSA+']                          | TLV H2O2 LC Sensor                   |
|  74 |             1.834 | ['QSA+']                          | TLV H2O2 LC Sensor                   |
|  75 |             1.84  | ['PDICA±']                        | Differential pressure sensor         |
|  76 |             1.842 | ['PDI']                           | Differential pressure sensor         |
|  78 |             1.853 | ['PSA-', 'V']                     | Pressure reduction 1                 |
|  79 |             1.86  | ['V']                             | Control valves including 3-way valve |
|  80 |             1.861 | ['V']                             | Pressure sensor                      |
|  82 |             1.865 | ['PSA-', 'V']                     | Inflatable Gasket                    |
|  83 |             1.866 | ['PSA-', 'V']                     | Inflatable Gasket                    |
|  84 |             1.867 | ['PSA-', 'V']                     | Inflatable Gasket                    |
|  85 |             1.868 | ['PSA-', 'V']                     | Inflatable Gasket                    |
|  86 |             1.869 | ['PSA-', 'V']                     | Inflatable Gasket                    |
|  87 |             1.87  | ['PSA-', 'V']                     | Inflatable Gasket                    |
|  88 |             1.901 | ['GZA-']                          | Safety door                          |
|  89 |             1.902 | ['GZA-']                          | Safety door                          |
|  90 |             1.903 | ['GZA-']                          | Safety door                          |
|  91 |             1.904 | ['GZA-']                          | Safety door                          |
|  92 |             1.905 | ['GZA-']                          | Safety door                          |
|  93 |             1.906 | ['GZA-']                          | Safety door                          |
|  94 |             1.911 | ['GSA-']                          | Service cover                        |
|  95 |             1.912 | ['GSA-']                          | Service cover                        |
|  96 |             1.913 | ['GSA-']                          | Service cover                        |
|  97 |             1.914 | ['GSA-']                          | Service cover                        |
|  98 |             1.915 | ['GSA-']                          | Service cover                        |
|  99 |             1.916 | ['GSA-']                          | Service cover                        |
| 100 |             1.917 | ['GSA-']                          | Service cover                        |
| 101 |             1.918 | ['GSA-']                          | Service cover                        |
| 102 |             1.919 | ['GSA-']                          | Service cover                        |
| 103 |             1.921 | ['GZA-']                          | Mousehole door                       |
| 104 |             1.922 | ['GZA-']                          | Mousehole door                       |
| 105 |             1.923 | ['GZA-']                          | Mousehole door                       |
| 106 |             1.924 | ['GZA-']                          | Mousehole door                       |
| 107 |             1.931 | ['GZA-']                          | Safety windows                       |
| 108 |             1.932 | ['GZA-']                          | Safety windows                       |
| 109 |             1.941 | ['GZA-']                          | Safety front door                    |
| 110 |             1.942 | ['GZA-']                          | Safety front door                    |
| 111 |             1.943 | ['GZA-']                          | Safety front door                    |
| 112 |             1.944 | ['GZA-']                          | Safety front door                    |
| 113 |             1.945 | ['GZA-']                          | Safety front door                    |
| 114 |             1.946 | ['GZA-']                          | Safety front door                    |
| 115 |             1.961 | ['GZA-']                          | Laser Scanner                        |
| 116 |             1.962 | ['GZA-']                          | Laser Scanner                        |
| 117 |             1.963 | ['GZA-']                          | Laser Scanner                        |
| 118 |             1.99  | ['L']                             | Lighting                             |
| 119 |             1.991 | ['L']                             | Alarm lights                         |
| 120 |             2.2   | ['M', 'SC', 'V', 'XA']            | Recirculation fan                    |
| 121 |             2.208 | ['PDI']                           | Diferential pressure sensor          |
| 122 |             2.21  | ['M', 'SC', 'V', 'XA']            | Recirculation fan                    |
| 123 |             2.218 | ['PDI']                           | Diferential pressure sensor          |
| 124 |             2.3   | ['FA-', 'QIA+', 'XA']             | Particle counter                     |
| 125 |             2.304 | ['M', 'P']                        | Vacuum pump                          |
| 126 |             2.308 | ['FSA-']                          | Flow-Switch                          |
| 127 |             2.35  | ['P', 'XA']                       | Air sampler                          |
| 128 |             2.7   | ['M', 'P', 'SC']                  | Peristaltic pump                     |
| 129 |             2.705 | ['LSA-']                          | Flow Switch H2O2                     |
| 130 |             2.706 | ['V']                             | Control valve compressed air         |
| 131 |             2.707 | ['V', 'YC']                       | Needle valve compressed air          |
| 132 |             2.708 | ['FICA±']                         | Flow switch compressed air           |
| 133 |             2.71  | ['M', 'P', 'SC']                  | Peristaltic pump                     |
| 134 |             2.715 | ['LSA-']                          | Flow Switch H2O2                     |
| 135 |             2.716 | ['V']                             | Control valve compressed air         |
| 136 |             2.717 | ['V', 'YC']                       | Needle valve compressed air          |
| 137 |             2.718 | ['FICA±']                         | Flow switch compressed air           |
| 138 |             2.72  | ['M', 'P', 'SC']                  | Peristaltic pump                     |
| 139 |             2.725 | ['LSA-']                          | Flow Switch H2O2                     |
| 140 |             2.727 | ['V', 'YC']                       | Needle valve compressed air          |
| 141 |             2.728 | ['FICA±']                         | Flow switch compressed air           |
| 142 |             2.99  | ['L']                             | Lighting                             |
+-----+-------------------+-----------------------------------+--------------------------------------+
