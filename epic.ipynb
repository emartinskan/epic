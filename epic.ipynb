{
 "cells": [
  {
   "cell_type": "markdown",
   "metadata": {},
   "source": [
    " EPIC, the Extended PID Configurator, Ihr vertrauenswürdiger Konfigurator :)\n",
    "V0.1 := Initial release."
   ]
  },
  {
   "cell_type": "markdown",
   "metadata": {},
   "source": [
    "#Writed according PEP8 style guide\n",
    "#https://realpython.com/python-pep8/"
   ]
  },
  {
   "cell_type": "code",
   "execution_count": 1,
   "metadata": {},
   "outputs": [
    {
     "name": "stdout",
     "output_type": "stream",
     "text": [
      "Pandas version: 1.4.2\n",
      "Numpy version: 1.21.5\n"
     ]
    }
   ],
   "source": [
    "#Libraries import\n",
    "import os\n",
    "import time\n",
    "import datetime\n",
    "import pandas as pd\n",
    "import numpy as np\n",
    "from numpy import random\n",
    "import scipy.sparse as sp\n",
    "\n",
    "##Version information\n",
    "print(f\"Pandas version: {pd.__version__}\") #Pandas version number\n",
    "print(f\"Numpy version: {np.__version__}\") #numpy version number\n",
    "\n"
   ]
  },
  {
   "cell_type": "code",
   "execution_count": 2,
   "metadata": {},
   "outputs": [],
   "source": [
    "#Global variables\n",
    "import_mode = True # import mode (True/False) - Imports an csv from PID\n",
    "verbose_mode = False # verbose mode (True/False)\n",
    "debug_mode = True # debug mode (True/False)\n",
    "random_mode = False # random data generation  (True/False)\n",
    "simulation_mode = False # simulation (True/False)"
   ]
  },
  {
   "cell_type": "code",
   "execution_count": 3,
   "metadata": {},
   "outputs": [],
   "source": [
    "#Generate standard templated\n",
    "generate_tag_number_definitions = False #Every element has a description and a unique number for software modules\n",
    "#generate_element_list_alarm_matrix = False #Every element has a unique number of alarms\n",
    "#generate_element_list_hardware_matrix = False #All possible combinations of elements have a unique IO"
   ]
  },
  {
   "cell_type": "code",
   "execution_count": 4,
   "metadata": {},
   "outputs": [],
   "source": [
    "#Data generation\n",
    "generate_element_list = False\n",
    "generate_functional_matrix = False\n",
    "generate_alarm_matrix = False\n",
    "generate_hardware_config = False\n",
    "generate_symbolic   = False\n",
    "generate_s_plant    = False\n",
    "generate_s_line = False\n",
    "generate_flow_chart = False\n"
   ]
  },
  {
   "cell_type": "code",
   "execution_count": 5,
   "metadata": {},
   "outputs": [],
   "source": [
    "##Change working directory to temp/epic\n",
    "os.chdir('C://temp/epic/')\n"
   ]
  },
  {
   "cell_type": "code",
   "execution_count": 6,
   "metadata": {},
   "outputs": [
    {
     "name": "stdout",
     "output_type": "stream",
     "text": [
      "Current Working Directory is:  C:\\temp\\epic\n"
     ]
    }
   ],
   "source": [
    "## %pwd #Return the current working directory path in linux\n",
    "# Get a working directory with os.getcwd\n",
    "cwd = os.getcwd()\n",
    "\n",
    "print('Current Working Directory is: ', cwd)"
   ]
  },
  {
   "cell_type": "code",
   "execution_count": 7,
   "metadata": {},
   "outputs": [
    {
     "data": {
      "text/plain": [
       "['PID.csv']"
      ]
     },
     "execution_count": 7,
     "metadata": {},
     "output_type": "execute_result"
    }
   ],
   "source": [
    "#!ls #List directory contents of files and directories\n",
    "os.listdir(cwd)\n"
   ]
  },
  {
   "cell_type": "code",
   "execution_count": 8,
   "metadata": {},
   "outputs": [],
   "source": [
    "#\n",
    "generate_full_isolator = False #\n",
    "generate_all_alarms = False\n"
   ]
  },
  {
   "cell_type": "markdown",
   "metadata": {},
   "source": [
    "#Random_mode:\n",
    "Generate aleatories PID numbers and symbols.\n",
    "\n"
   ]
  },
  {
   "cell_type": "code",
   "execution_count": 9,
   "metadata": {},
   "outputs": [],
   "source": [
    "#Generate list of X random numbers from 1.100 - 9.999:\n",
    "if random_mode:\n",
    "    random_PID_numbers=list(random.randint(1100,10000, size=(1000)))\n",
    "\n",
    "    if verbose_mode:    print(random_PID_numbers)"
   ]
  },
  {
   "cell_type": "code",
   "execution_count": 10,
   "metadata": {},
   "outputs": [],
   "source": [
    "#Generate PID symbol\n",
    "if random_mode:\n",
    "    random_PID_symbols = list(random.choice(['B', 'C', 'D', 'EC', 'F', 'FA-', 'FIA+', 'FICA+', 'FSA-', 'GIA', 'GSA+', 'GSA-', 'GZA-', 'H', 'K', 'L', 'LSA-', 'M',\n",
    "    'MIA±', 'NC', 'P', 'PDI', 'PDICA±', 'PDIS', 'PI', 'PSA-', 'QIA+', 'QIA-', 'QSA+', 'S', 'SC', 'SIA±', 'T', 'TI', 'TIC', 'TICA±', 'TSA+',\n",
    "    'V', 'W', 'WICA±', 'XA', 'Y', 'YC'], size=(1000)))\n",
    "\n",
    "    if verbose_mode:    print(random_PID_symbols)\n",
    "    if debug_mode:      print(type(random_PID_symbols))"
   ]
  },
  {
   "cell_type": "code",
   "execution_count": 11,
   "metadata": {},
   "outputs": [],
   "source": [
    "#TODO: Remove <1100 and > 9999\n",
    "# send this tuples to a list for post revision"
   ]
  },
  {
   "cell_type": "markdown",
   "metadata": {},
   "source": [
    "Series and DataFrames"
   ]
  },
  {
   "cell_type": "code",
   "execution_count": 12,
   "metadata": {},
   "outputs": [],
   "source": [
    "#pid_series = pd.Series(random_PID_symbols, random_PID_numbers)\n",
    "#pid_series = pid_series.sort_index(axis=0,ascending=True)\n",
    "#pid_series"
   ]
  },
  {
   "cell_type": "markdown",
   "metadata": {},
   "source": [
    "Load data from PID (a csv file into pandas)"
   ]
  },
  {
   "cell_type": "code",
   "execution_count": 13,
   "metadata": {},
   "outputs": [
    {
     "data": {
      "text/html": [
       "<div>\n",
       "<style scoped>\n",
       "    .dataframe tbody tr th:only-of-type {\n",
       "        vertical-align: middle;\n",
       "    }\n",
       "\n",
       "    .dataframe tbody tr th {\n",
       "        vertical-align: top;\n",
       "    }\n",
       "\n",
       "    .dataframe thead th {\n",
       "        text-align: right;\n",
       "    }\n",
       "</style>\n",
       "<table border=\"1\" class=\"dataframe\">\n",
       "  <thead>\n",
       "    <tr style=\"text-align: right;\">\n",
       "      <th></th>\n",
       "      <th>Prop_PID_Number</th>\n",
       "      <th>Prop_PID_Element</th>\n",
       "    </tr>\n",
       "  </thead>\n",
       "  <tbody>\n",
       "    <tr>\n",
       "      <th>0</th>\n",
       "      <td>1.100</td>\n",
       "      <td>XA</td>\n",
       "    </tr>\n",
       "    <tr>\n",
       "      <th>1</th>\n",
       "      <td>1.100</td>\n",
       "      <td>SC</td>\n",
       "    </tr>\n",
       "    <tr>\n",
       "      <th>2</th>\n",
       "      <td>1.100</td>\n",
       "      <td>M</td>\n",
       "    </tr>\n",
       "    <tr>\n",
       "      <th>3</th>\n",
       "      <td>1.100</td>\n",
       "      <td>V</td>\n",
       "    </tr>\n",
       "    <tr>\n",
       "      <th>4</th>\n",
       "      <td>1.101</td>\n",
       "      <td>F</td>\n",
       "    </tr>\n",
       "    <tr>\n",
       "      <th>...</th>\n",
       "      <td>...</td>\n",
       "      <td>...</td>\n",
       "    </tr>\n",
       "    <tr>\n",
       "      <th>284</th>\n",
       "      <td>2.304</td>\n",
       "      <td>M</td>\n",
       "    </tr>\n",
       "    <tr>\n",
       "      <th>285</th>\n",
       "      <td>2.308</td>\n",
       "      <td>FSA-</td>\n",
       "    </tr>\n",
       "    <tr>\n",
       "      <th>286</th>\n",
       "      <td>2.350</td>\n",
       "      <td>P</td>\n",
       "    </tr>\n",
       "    <tr>\n",
       "      <th>287</th>\n",
       "      <td>2.350</td>\n",
       "      <td>XA</td>\n",
       "    </tr>\n",
       "    <tr>\n",
       "      <th>288</th>\n",
       "      <td>2.990</td>\n",
       "      <td>L</td>\n",
       "    </tr>\n",
       "  </tbody>\n",
       "</table>\n",
       "<p>289 rows × 2 columns</p>\n",
       "</div>"
      ],
      "text/plain": [
       "     Prop_PID_Number Prop_PID_Element\n",
       "0              1.100               XA\n",
       "1              1.100               SC\n",
       "2              1.100                M\n",
       "3              1.100                V\n",
       "4              1.101                F\n",
       "..               ...              ...\n",
       "284            2.304                M\n",
       "285            2.308             FSA-\n",
       "286            2.350                P\n",
       "287            2.350               XA\n",
       "288            2.990                L\n",
       "\n",
       "[289 rows x 2 columns]"
      ]
     },
     "execution_count": 13,
     "metadata": {},
     "output_type": "execute_result"
    }
   ],
   "source": [
    "df_data_raw = pd.read_csv('PID.csv', encoding = \"utf-8\", engine='python')\n",
    "df_data_raw"
   ]
  },
  {
   "cell_type": "code",
   "execution_count": 14,
   "metadata": {},
   "outputs": [
    {
     "data": {
      "text/plain": [
       "Prop_PID_Number     float64\n",
       "Prop_PID_Element     object\n",
       "dtype: object"
      ]
     },
     "execution_count": 14,
     "metadata": {},
     "output_type": "execute_result"
    }
   ],
   "source": [
    "#datatypes of each column\n",
    "df_data_raw.dtypes"
   ]
  }
 ],
 "metadata": {
  "kernelspec": {
   "display_name": "Python 3.9.12 ('base')",
   "language": "python",
   "name": "python3"
  },
  "language_info": {
   "codemirror_mode": {
    "name": "ipython",
    "version": 3
   },
   "file_extension": ".py",
   "mimetype": "text/x-python",
   "name": "python",
   "nbconvert_exporter": "python",
   "pygments_lexer": "ipython3",
   "version": "3.9.12"
  },
  "orig_nbformat": 4,
  "vscode": {
   "interpreter": {
    "hash": "77fe7f394e6233d2bf48f208122493e7b5d7499c90a22c2f89a7d992d484fad0"
   }
  }
 },
 "nbformat": 4,
 "nbformat_minor": 2
}
