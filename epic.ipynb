{
 "cells": [
  {
   "cell_type": "markdown",
   "metadata": {},
   "source": [
    " EPIC, the Extended PID Configurator, Ihr vertrauenswürdiger Konfigurator :)\n",
    "V0.1 := Initial release."
   ]
  },
  {
   "cell_type": "markdown",
   "metadata": {},
   "source": [
    "#Writed according PEP8 style guide\n",
    "#https://realpython.com/python-pep8/"
   ]
  },
  {
   "cell_type": "code",
   "execution_count": null,
   "metadata": {},
   "outputs": [],
   "source": [
    "#Libraries import\n",
    "import os\n",
    "import time\n",
    "import datetime\n",
    "import pandas as pd\n",
    "import numpy as np\n",
    "from numpy import random\n",
    "from enum import Enum\n",
    "#import scipy.sparse as sp\n",
    "#from sklearn.datasets import load_iris\n",
    "\n",
    "\n",
    "##Version information\n",
    "print(f\"Pandas version: {pd.__version__}\") #Pandas version number\n",
    "print(f\"Numpy version: {np.__version__}\") #numpy version number\n",
    "\n"
   ]
  },
  {
   "cell_type": "code",
   "execution_count": null,
   "metadata": {},
   "outputs": [],
   "source": [
    "#Global variables\n",
    "import_mode = True # import mode (True/False) - Imports an csv from PID\n",
    "verbose_mode = False # verbose mode (True/False)\n",
    "debug_mode = True # debug mode (True/False)\n",
    "random_mode = False # random data generation  (True/False)\n",
    "simulation_mode = False # simulation (True/False)"
   ]
  },
  {
   "cell_type": "code",
   "execution_count": null,
   "metadata": {},
   "outputs": [],
   "source": [
    "#Generate standard templated\n",
    "generate_tag_number_definitions = False #Every element has a description and a unique number for software modules\n",
    "#generate_element_list_alarm_matrix = False #Every element has a unique number of alarms\n",
    "#generate_element_list_hardware_matrix = False #All possible combinations of elements have a unique IO"
   ]
  },
  {
   "cell_type": "code",
   "execution_count": null,
   "metadata": {},
   "outputs": [],
   "source": [
    "#Data generation\n",
    "generate_element_list = False\n",
    "generate_functional_matrix = False\n",
    "generate_alarm_matrix = False\n",
    "generate_hardware_config = False\n",
    "generate_symbolic   = False\n",
    "generate_s_plant    = False\n",
    "generate_s_line = False\n",
    "generate_flow_chart = False #--> GUI with active modes and phases, start condition [active modes list ] as bool (true false). Generarte excel which generete flow chart.\n"
   ]
  },
  {
   "cell_type": "code",
   "execution_count": null,
   "metadata": {},
   "outputs": [],
   "source": [
    "if import_mode: \n",
    "    ##Change working directory to temp/epic\n",
    "    os.chdir('C://temp/epic/')\n",
    "    cwd = os.getcwd()\n",
    "    print('Current Working Directory is: ', cwd)\n",
    "    \n"
   ]
  },
  {
   "cell_type": "code",
   "execution_count": null,
   "metadata": {},
   "outputs": [],
   "source": [
    "if import_mode:\n",
    "    print(os.listdir(cwd)) #List directory"
   ]
  },
  {
   "cell_type": "markdown",
   "metadata": {},
   "source": [
    "#Random_mode:\n",
    "Generate aleatories PID numbers and symbols.\n",
    "\n"
   ]
  },
  {
   "cell_type": "code",
   "execution_count": null,
   "metadata": {},
   "outputs": [],
   "source": [
    "#Generate list of X random numbers from 1.100 - 9.999:\n",
    "if random_mode:\n",
    "    random_PID_numbers=list(random.randint(1100,10000, size=(1000)))\n",
    "\n",
    "    if verbose_mode:    print(random_PID_numbers)"
   ]
  },
  {
   "cell_type": "code",
   "execution_count": null,
   "metadata": {},
   "outputs": [],
   "source": [
    "#Generate PID symbol\n",
    "if random_mode:\n",
    "    random_PID_symbols = list(random.choice(['B', 'C', 'D', 'EC', 'F', 'FA-', 'FIA+', 'FICA+', 'FSA-', 'GIA', 'GSA+', 'GSA-', 'GZA-', 'H', 'K', 'L', 'LSA-', 'M',\n",
    "    'MIA±', 'NC', 'P', 'PDI', 'PDICA±', 'PDIS', 'PI', 'PSA-', 'QIA+', 'QIA-', 'QSA+', 'S', 'SC', 'SIA±', 'T', 'TI', 'TIC', 'TICA±', 'TSA+',\n",
    "    'V', 'W', 'WICA±', 'XA', 'Y', 'YC'], size=(1000)))\n",
    "\n",
    "    if verbose_mode:    print(random_PID_symbols)\n",
    "    if debug_mode:      print(type(random_PID_symbols))"
   ]
  },
  {
   "cell_type": "markdown",
   "metadata": {},
   "source": [
    "Series and DataFrames"
   ]
  },
  {
   "cell_type": "code",
   "execution_count": null,
   "metadata": {},
   "outputs": [],
   "source": [
    "#pid_series = pd.Series(random_PID_symbols, random_PID_numbers)\n",
    "#pid_series = pid_series.sort_index(axis=0,ascending=True)\n",
    "#pid_series\n",
    "\n",
    "#Import Tag number definitions as a pandas series\n",
    "#tnd = pd.read_csv('TND.csv',names=['PID','Description'])\n",
    "#tnd = pd.read_excel('TND.xlsx',)\n",
    "#tnd"
   ]
  },
  {
   "cell_type": "code",
   "execution_count": null,
   "metadata": {},
   "outputs": [],
   "source": [
    "#PID_series = tnd['PID'].squeeze()\n",
    "#pid_exist = PID_series.str.contains('.100')"
   ]
  },
  {
   "cell_type": "code",
   "execution_count": null,
   "metadata": {},
   "outputs": [],
   "source": [
    "#tnd.at[0,'Description']"
   ]
  },
  {
   "cell_type": "code",
   "execution_count": null,
   "metadata": {},
   "outputs": [],
   "source": [
    "#tnd_pid.at[1.100,'Description'] Works if index_col='PID'"
   ]
  },
  {
   "cell_type": "markdown",
   "metadata": {},
   "source": [
    "Reading Excel File\n",
    "\n",
    "We can read an excel file into a data frame:\n",
    "\n",
    "pd.read_excel('myExcel.xlsx', index_col=['ColumnA'])\n",
    "\n",
    "We can also load one sheet into a data frame:\n",
    "\n",
    "pd.read_excel(open('myExcel.xlsx', 'rb'), sheet_name='Sheet1')"
   ]
  },
  {
   "cell_type": "code",
   "execution_count": null,
   "metadata": {},
   "outputs": [],
   "source": []
  },
  {
   "cell_type": "markdown",
   "metadata": {},
   "source": [
    "AUTOMATION CODE"
   ]
  },
  {
   "cell_type": "code",
   "execution_count": null,
   "metadata": {},
   "outputs": [],
   "source": [
    "#Load PID data\n",
    "#df_data_excel = pd.read_excel('PID.xlsx', index_col='Prop_PID_Number')\n",
    "#df_data_excel = pd.read_excel('PID.xlsx')\n",
    "#df_data_excel = pd.read_excel('PID_SVEN.xlsx')\n",
    "df_data_excel = pd.read_excel('PID_NINIO.xlsx')\n",
    "df_data_excel = df_data_excel.sort_values('Prop_PID_Element') #Sorting by Element we get elements ordered and ready to compare\n",
    "print(df_data_excel)"
   ]
  },
  {
   "cell_type": "code",
   "execution_count": null,
   "metadata": {},
   "outputs": [],
   "source": [
    "#Remove ShapeKey from the dataframe\n",
    "del df_data_excel['ShapeKey']"
   ]
  },
  {
   "cell_type": "code",
   "execution_count": null,
   "metadata": {},
   "outputs": [],
   "source": [
    "# dropping duplicate values\n",
    "df_data_excel.drop_duplicates(inplace=True)"
   ]
  },
  {
   "cell_type": "code",
   "execution_count": null,
   "metadata": {},
   "outputs": [],
   "source": [
    "df_data_excel.count()"
   ]
  },
  {
   "cell_type": "code",
   "execution_count": null,
   "metadata": {},
   "outputs": [],
   "source": [
    "#Drop elements like filters, catalizators, etc\n",
    "for items in df_data_excel.index:\n",
    "\n",
    "    if df_data_excel.at[items, 'Prop_PID_Element'] == 'B':\n",
    "        print(\"Deleted a catalizator in: \",items)\n",
    "        df_data_excel.drop(items,axis=0,inplace=True)\n",
    "    elif df_data_excel.at[items, 'Prop_PID_Element'] == 'F':\n",
    "        print(\"Deleted a filter in: \",items)\n",
    "        df_data_excel.drop(items,axis=0,inplace=True)\n",
    "    elif df_data_excel.at[items, 'Prop_PID_Element'] == 'C':\n",
    "        print(\"Deleted a catalizator in: \",items)\n",
    "        df_data_excel.drop(items,axis=0,inplace=True)\n",
    "\n",
    "    elif df_data_excel.at[items, 'Prop_PID_Element'] == 'D':\n",
    "        print(\"Deleted a D element: \",items)\n",
    "        df_data_excel.drop(items,axis=0,inplace=True)\n",
    "    \n",
    "    elif df_data_excel.at[items, 'Prop_PID_Element'] == 'S':\n",
    "        print(\"Deleted a Overpressure valve in: \",items)\n",
    "        df_data_excel.drop(items,axis=0,inplace=True)\n",
    "\n",
    "    elif df_data_excel.at[items, 'Prop_PID_Element'] == 'W':\n",
    "        print(\"Deleted a W element: \",items)\n",
    "        df_data_excel.drop(items,axis=0,inplace=True)\n",
    "\n",
    "    elif df_data_excel.at[items, 'Prop_PID_Element'] == 'Z':\n",
    "        print(\"Deleted a Z element: \",items)\n",
    "        df_data_excel.drop(items,axis=0,inplace=True)\n",
    "    \n",
    "\n",
    "\n"
   ]
  },
  {
   "cell_type": "code",
   "execution_count": null,
   "metadata": {},
   "outputs": [],
   "source": [
    "df_data_excel.count()\n"
   ]
  },
  {
   "cell_type": "code",
   "execution_count": null,
   "metadata": {},
   "outputs": [],
   "source": [
    "#Load Automation Code excel file\n",
    "df_automation_code = pd.read_excel('AutomationCode.xlsx')\n",
    "df_automation_code"
   ]
  },
  {
   "cell_type": "code",
   "execution_count": null,
   "metadata": {},
   "outputs": [],
   "source": [
    "#Load Tag Name Definition\n",
    "tnd_pid = pd.read_excel('TND.xlsx')\n",
    "#tnd_pid = pd.read_excel('TND.xlsx',index_col='PID')\n",
    "tnd_pid"
   ]
  },
  {
   "cell_type": "code",
   "execution_count": null,
   "metadata": {},
   "outputs": [],
   "source": [
    "# Def of Lookup as in Microsoft Excel.\n",
    "def xlookup(lookup_value, lookup_array, return_array, if_not_found:str = ''):\n",
    "    match_value = return_array.loc[lookup_array == lookup_value]\n",
    "    if match_value.empty:\n",
    "        return f'\"{lookup_value}\" not found!' if if_not_found == '' else if_not_found\n",
    "\n",
    "    else:\n",
    "        return match_value.tolist()[0]"
   ]
  },
  {
   "cell_type": "code",
   "execution_count": null,
   "metadata": {},
   "outputs": [],
   "source": [
    "# Def of Lookup as in Microsoft Excel but for tags\n",
    "def xlookupPID(lookup_value, lookup_array, return_array, if_not_found:str = ''):\n",
    "    lookup_value = str(\"%.3f\" % lookup_value)\n",
    "    lookup_value = 'Y' + lookup_value[1:]\n",
    "    match_value = return_array.loc[lookup_array == lookup_value]\n",
    "    if match_value.empty:\n",
    "        return f'\"{lookup_value}\" not found!' if if_not_found == '' else if_not_found\n",
    "\n",
    "    else:\n",
    "        return match_value.tolist()[0]"
   ]
  },
  {
   "cell_type": "code",
   "execution_count": null,
   "metadata": {},
   "outputs": [],
   "source": [
    "value = 2.150\n",
    "#s_value = str(value)\n",
    "s_value = str(\"%.3f\" % value)\n",
    "s_value = 'Y' + s_value[1:]\n",
    "s_value"
   ]
  },
  {
   "cell_type": "code",
   "execution_count": null,
   "metadata": {},
   "outputs": [],
   "source": [
    "df_data_excel.count()"
   ]
  },
  {
   "cell_type": "code",
   "execution_count": null,
   "metadata": {},
   "outputs": [],
   "source": [
    "print(df_data_excel.to_string())"
   ]
  },
  {
   "cell_type": "markdown",
   "metadata": {},
   "source": [
    "Add extra elements like 1.840 [Decontamionation], later will count as a Limit Hi Lo, for the alarms"
   ]
  },
  {
   "cell_type": "code",
   "execution_count": null,
   "metadata": {},
   "outputs": [],
   "source": [
    "#Add Automation_Code information\n",
    "#df_data_excel['Automation_Code'] = df_data_excel['Prop_PID_Element'].apply(xlookup, args = (df_automation_code['Prop_PID_Element'], df_automation_code['Automation_Code']));"
   ]
  },
  {
   "cell_type": "code",
   "execution_count": null,
   "metadata": {},
   "outputs": [],
   "source": [
    "#print(df_data_excel.to_string())\n"
   ]
  },
  {
   "cell_type": "code",
   "execution_count": null,
   "metadata": {},
   "outputs": [],
   "source": [
    "#Group by PID number\n",
    "element_list = df_data_excel.groupby(['Prop_PID_Number']).agg(list).copy()"
   ]
  },
  {
   "cell_type": "code",
   "execution_count": null,
   "metadata": {},
   "outputs": [],
   "source": [
    "type(element_list)"
   ]
  },
  {
   "cell_type": "code",
   "execution_count": null,
   "metadata": {},
   "outputs": [],
   "source": [
    "element_list.count()"
   ]
  },
  {
   "cell_type": "code",
   "execution_count": null,
   "metadata": {},
   "outputs": [],
   "source": [
    "print(element_list.to_string())"
   ]
  },
  {
   "cell_type": "code",
   "execution_count": null,
   "metadata": {},
   "outputs": [],
   "source": []
  },
  {
   "cell_type": "code",
   "execution_count": null,
   "metadata": {},
   "outputs": [],
   "source": [
    "#Drop compound elements which are not part of the software list\n",
    "#Drop elements like filters, catalizators, etc\n",
    "for items in element_list.index:\n",
    "    if element_list.at[items, 'Prop_PID_Element'] == ['PI', 'V']:\n",
    "        print(\"Deleted a Pressure indicator in: \",items)\n",
    "        element_list.drop(items,axis=0,inplace=True)"
   ]
  },
  {
   "cell_type": "code",
   "execution_count": null,
   "metadata": {},
   "outputs": [],
   "source": [
    "element_list.count()"
   ]
  },
  {
   "cell_type": "code",
   "execution_count": null,
   "metadata": {},
   "outputs": [],
   "source": [
    "#Deletion of manual valves, as we have no other information in the PID\n",
    "#element_list.drop(1.654,axis=0,inplace=True)\n",
    "#element_list.drop(1.656,axis=0,inplace=True)\n",
    "#element_list.drop(1.850,axis=0,inplace=True)\n",
    "#element_list.drop(1.863,axis=0,inplace=True)"
   ]
  },
  {
   "cell_type": "code",
   "execution_count": null,
   "metadata": {},
   "outputs": [],
   "source": [
    "element_list.count()"
   ]
  },
  {
   "cell_type": "code",
   "execution_count": null,
   "metadata": {},
   "outputs": [],
   "source": [
    "##Add tag number definition - reset index first, then use xlookup function\n",
    "element_list = element_list.reset_index()\n",
    "element_list['Tag_Number_Definition'] = element_list['Prop_PID_Number'].apply(xlookupPID, args = (tnd_pid['PID'], tnd_pid['Description']));"
   ]
  },
  {
   "cell_type": "code",
   "execution_count": null,
   "metadata": {},
   "outputs": [],
   "source": [
    "print(element_list.to_string())"
   ]
  },
  {
   "cell_type": "code",
   "execution_count": null,
   "metadata": {},
   "outputs": [],
   "source": [
    "#print(element_list.loc[element_list['Prop_PID_Number'] == 1.100]['Prop_PID_Element'].values)"
   ]
  },
  {
   "cell_type": "code",
   "execution_count": null,
   "metadata": {},
   "outputs": [],
   "source": [
    "value =list( element_list.at[0, 'Prop_PID_Element'])"
   ]
  },
  {
   "cell_type": "code",
   "execution_count": null,
   "metadata": {},
   "outputs": [],
   "source": [
    "value"
   ]
  },
  {
   "cell_type": "code",
   "execution_count": null,
   "metadata": {},
   "outputs": [],
   "source": [
    "#Software Module Definition\n",
    "SOFTWARE_MODE_DEFINITION = {\n",
    "    \"S_AAS_MAS_TCP\" : \"S_AAS_MAS_TCP\",\n",
    "    \"S_AAS_MODBUS_TCP\" : \"S_AAS_MODBUS_TCP\",\n",
    "    \"S_AAS_SERIAL\" : \"S_AAS_SERIAL\",\n",
    "    \"S_ALARM\" : \"S_ALARM\",\n",
    "    \"S_DRIVE\" : \"S_DRIVE\",\n",
    "    \"S_ELMT_ON_OFF\" : \"S_ELMT_ON_OFF\",\n",
    "    \"S_EMITTER_CMT\" : \"S_EMITTER_CMT\",\n",
    "    \"S_FIPA\" : \"S_FIPA\",\n",
    "    \"S_FLOW_METER\" : \"S_FLOW_METER\",\n",
    "    \"S_GASKET\" : \"S_GASKET\",\n",
    "    \"S_LEAK\" : \"S_LEAK\",\n",
    "    \"S_LIMIT_HI_LO\" : \"S_LIMIT_HI_LO\",\n",
    "    \"S_LIMIT_ON_OFF\" : \"S_LIMIT_ON_OFF\",\n",
    "    \"S_LIMIT_SWITCH\" : \"S_LIMIT_SWITCH\",\n",
    "    \"S_LINE\" : \"S_LINE\",\n",
    "    \"S_MOTOR1\" : \"S_MOTOR1\",\n",
    "    \"S_PLANT\" : \"S_PLANT\",\n",
    "    \"S_PMS_MODBUS_ASCII\" : \"S_PMS_MODBUS_ASCII\",\n",
    "    \"S_PMS_MODBUS_TCP\" : \"S_PMS_MODBUS_TCP\",\n",
    "    \"S_PUMP_TEST\" : \"S_PUMP_TEST\",\n",
    "    \"S_REG_CONT\" : \"S_REG_CONT\",\n",
    "    #S_REG = \"S_REG\"\n",
    "    \"S_SIS\" : \"S_SIS\",\n",
    "    \"S_SKANFOG\" : \"SKANFOG\",\n",
    "    #S_TIMESYNCH = \"S_TIMESYNCH\"\n",
    "    \"S_VALVE_FLAP\" : \"S_VALVE_FLAP\",\n",
    "    #S_WEIGHT_SCALE_NG = \"S_WEIGHT_SCALE_NG\"\n",
    "    #S_WEIGHT_SCALE = \"S_WEIGHT_SCALE\"\n",
    "    \"S_WEIGHT_SCALE2_NG\" : \"S_WEIGHT_SCALE2_NG\",\n",
    "    \"S_LEADER_FOLLOWER\" : \"S_LEADER_FOLLOWER\"\n",
    "    }"
   ]
  },
  {
   "cell_type": "code",
   "execution_count": null,
   "metadata": {},
   "outputs": [],
   "source": [
    "element_list_sw_modules = ['SW_Module','SW_Module_Nr','Connection1','Connection1_Nr','Connection2','Connection2_Nr', 'Connection3','Connection3_Nr','Connection4','Connection4_Nr']\n",
    "element_list[element_list_sw_modules] = ''\n",
    "element_list"
   ]
  },
  {
   "cell_type": "code",
   "execution_count": null,
   "metadata": {},
   "outputs": [],
   "source": [
    "#Set Pid numbers as column\n",
    "#create a new dataframe with PID as index\n",
    "element_list = element_list.set_index('Prop_PID_Number')\n",
    "element_list\n"
   ]
  },
  {
   "cell_type": "code",
   "execution_count": null,
   "metadata": {},
   "outputs": [],
   "source": [
    "drive_number = 0\n",
    "motor_number = 0\n",
    "reg_number = 0\n",
    "limit_hi_lo = 0\n",
    "elmt_on_off = 0\n",
    "valve_flap = 0\n",
    "limit_switch = 0\n",
    "sis = 0\n",
    "weight_scale2_ng = 0\n",
    "leak = 0\n",
    "particle_counter = 0\n",
    "s_aas_mas_tcp = 0\n",
    "s_fipa = 0\n",
    "leader_follower = 0\n",
    "\n",
    "\n",
    "for items in element_list.index:\n",
    "\n",
    "    response_code = element_list.at[items, 'Prop_PID_Element'] \n",
    "\n",
    "    match response_code:\n",
    "\n",
    "        #Drive\n",
    "        case ['M', 'SC', 'TSA+', 'V']:\n",
    "            #Drive\n",
    "            element_list.at[items, 'SW_Module'] = SOFTWARE_MODE_DEFINITION['S_DRIVE']\n",
    "            drive_number = drive_number + 1 \n",
    "            element_list.at[items, 'SW_Module_Nr'] = drive_number\n",
    "\n",
    "            #Motor Conn 1\n",
    "            element_list.at[items, 'Connection1'] = SOFTWARE_MODE_DEFINITION[\"S_MOTOR1\"]\n",
    "            motor_number = motor_number + 1\n",
    "            element_list.at[items, 'Connection1_Nr'] = motor_number\n",
    "\n",
    "            #Reg Conn 2\n",
    "            element_list.at[items, 'Connection2'] = SOFTWARE_MODE_DEFINITION[\"S_REG_CONT\"]\n",
    "            reg_number = reg_number + 1\n",
    "            element_list.at[items, 'Connection2_Nr'] = reg_number\n",
    "\n",
    "            #Limit hi lo conn3\n",
    "            element_list.at[items, 'Connection3'] = SOFTWARE_MODE_DEFINITION[\"S_LIMIT_HI_LO\"]\n",
    "            #limit_hi_lo = limit_hi_lo + 1\n",
    "            element_list.at[items, 'Connection3_Nr'] = (element_list.at[1.840, 'SW_Module_Nr'])\n",
    "\n",
    "        #Motor\n",
    "        case ['M', 'SC', 'V', 'XA'] | ['V', 'YC'] | ['H', 'M', 'NC'] | ['GIA', 'K', 'Y', 'YC'] | ['GIA', 'V', 'Y', 'YC'] | ['EC', 'TSA+'] | ['M', 'P', 'SC']: \n",
    "            #Motor + #Reg\n",
    "            element_list.at[items, 'SW_Module'] = SOFTWARE_MODE_DEFINITION[\"S_MOTOR1\"]\n",
    "            motor_number = motor_number + 1\n",
    "            element_list.at[items, 'SW_Module_Nr'] = motor_number\n",
    "\n",
    "            element_list.at[items, 'Connection1'] = SOFTWARE_MODE_DEFINITION[\"S_REG_CONT\"]\n",
    "            reg_number = reg_number + 1\n",
    "            element_list.at[items, 'Connection1_Nr'] = reg_number\n",
    "\n",
    "            element_list.at[items, 'Connection2'] = SOFTWARE_MODE_DEFINITION[\"S_LIMIT_HI_LO\"]\n",
    "            #limit_hi_lo = limit_hi_lo + 1\n",
    "            element_list.at[items, 'Connection2_Nr'] = -1\n",
    "\n",
    "        #Limit hi lo\n",
    "        case ['PDI'] | ['PDIS'] | ['TIC'] | ['FICA±'] | ['TIA±'] | ['TICA±'] | ['MIA±'] | ['SIA±'] | ['M', 'P', 'QIA+', 'XA'] | ['QIA-'] | ['QSA+'] | ['PDICA±']:\n",
    "            element_list.at[items, 'SW_Module'] = SOFTWARE_MODE_DEFINITION['S_LIMIT_HI_LO']\n",
    "            limit_hi_lo = limit_hi_lo + 1\n",
    "            element_list.at[items, 'SW_Module_Nr'] = limit_hi_lo\n",
    "\n",
    "        #elmt_on_off\n",
    "        case ['FA-', 'QIA+', 'QIA+', 'XA'] | ['M', 'P'] | ['L']:  \n",
    "            element_list.at[items, 'SW_Module'] = SOFTWARE_MODE_DEFINITION['S_ELMT_ON_OFF']\n",
    "            elmt_on_off = elmt_on_off + 1\n",
    "            element_list.at[items, 'SW_Module_Nr'] = elmt_on_off\n",
    "\n",
    "        #valve_flap\n",
    "        case ['GSA+', 'GSA-', 'V', 'Y'] | ['GSA+', 'GSA-', 'K', 'Y'] | ['V']:\n",
    "            element_list.at[items, 'SW_Module'] = SOFTWARE_MODE_DEFINITION['S_VALVE_FLAP']\n",
    "            valve_flap = valve_flap + 1\n",
    "            element_list.at[items, 'SW_Module_Nr'] = valve_flap\n",
    "\n",
    "        #limit_switch\n",
    "        case ['FSA-'] | ['PSA-', 'V'] | ['GZA-'] | ['GSA+'] | ['GSA-'] | ['LSA-'] : \n",
    "            element_list.at[items, 'SW_Module'] = SOFTWARE_MODE_DEFINITION['S_LIMIT_SWITCH']\n",
    "            limit_switch = limit_switch + 1\n",
    "            element_list.at[items, 'SW_Module_Nr'] = limit_switch\n",
    "\n",
    "        #WICA\n",
    "        case ['WICA±']:\n",
    "            element_list.at[items, 'SW_Module'] = SOFTWARE_MODE_DEFINITION['S_WEIGHT_SCALE2_NG']\n",
    "            weight_scale2_ng = weight_scale2_ng + 1\n",
    "            element_list.at[items, 'SW_Module_Nr'] = weight_scale2_ng\n",
    "\n",
    "            #Limit hi lo conn1\n",
    "            element_list.at[items, 'Connection1'] = SOFTWARE_MODE_DEFINITION[\"S_LIMIT_HI_LO\"]\n",
    "            limit_hi_lo = limit_hi_lo + 1\n",
    "            element_list.at[items, 'Connection1_Nr'] = 'Any limit_hi_lo needed'\n",
    "\n",
    "        #leak\n",
    "        case ['FIA+', 'H', 'YC']:\n",
    "            element_list.at[items, 'SW_Module'] = SOFTWARE_MODE_DEFINITION['S_LEAK']\n",
    "            leak = leak + 1\n",
    "            element_list.at[items, 'SW_Module_Nr'] = leak\n",
    "\n",
    "        #Servo mousehole\n",
    "        case ['GIA+', 'GIA-', 'M', 'SC', 'XA']:\n",
    "            #Limit hi lo conn1\n",
    "            element_list.at[items, 'SW_Module'] = \"S_SERVO_MOUSEHOLE\"\n",
    "            #limit_hi_lo = limit_hi_lo + 1\n",
    "            element_list.at[items, 'SW_Module_Nr'] = 'tbd'\n",
    "        \n",
    "        #Particle counter\n",
    "        case ['FA-', 'QIA+', 'XA']:\n",
    "            element_list.at[items, 'SW_Module'] = SOFTWARE_MODE_DEFINITION['S_PMS_MODBUS_TCP']\n",
    "            particle_counter = particle_counter + 1\n",
    "            element_list.at[items, 'SW_Module_Nr'] = particle_counter\n",
    "\n",
    "        #Air Sampler MAS TCP\n",
    "        case ['P', 'XA']:\n",
    "            element_list.at[items, 'SW_Module'] = SOFTWARE_MODE_DEFINITION['S_AAS_MAS_TCP']\n",
    "            s_aas_mas_tcp = s_aas_mas_tcp + 1\n",
    "            element_list.at[items, 'SW_Module_Nr'] = s_aas_mas_tcp\n",
    "\n",
    "        #Airdryer\n",
    "        case ['T', 'XA']:\n",
    "            element_list.at[items, 'SW_Module'] = 'Air dryer Munter or similar'\n",
    "            element_list.at[items, 'SW_Module_Nr'] = 1\n",
    "\n",
    "        #FiPa\n",
    "        case ['M', 'XA']:\n",
    "            element_list.at[items, 'SW_Module'] = SOFTWARE_MODE_DEFINITION['S_FIPA']\n",
    "            s_fipa = s_fipa + 1\n",
    "            element_list.at[items, 'SW_Module_Nr'] = s_fipa\n",
    "            \n",
    "        #case _:\n",
    "            #print(\"Yikers. I don't know that one.\")\n",
    "\n",
    "    #print(items)"
   ]
  },
  {
   "cell_type": "code",
   "execution_count": null,
   "metadata": {},
   "outputs": [],
   "source": [
    "print(element_list.to_string())"
   ]
  },
  {
   "cell_type": "code",
   "execution_count": null,
   "metadata": {},
   "outputs": [],
   "source": [
    "value =(element_list.at[1.840, 'SW_Module_Nr'])\n",
    "print(value)"
   ]
  },
  {
   "cell_type": "code",
   "execution_count": null,
   "metadata": {},
   "outputs": [],
   "source": [
    "#Update with the S_limit hi lo value\n",
    "for items in element_list.index:\n",
    "    \n",
    "    response_code = element_list.at[items, 'Prop_PID_Element'] \n",
    "\n",
    "    match response_code:\n",
    "        #Drive\n",
    "        case ['M', 'SC', 'TSA+', 'V']:\n",
    "            #Limit hi lo conn3\n",
    "            element_list.at[items, 'Connection3'] = SOFTWARE_MODE_DEFINITION[\"S_LIMIT_HI_LO\"]\n",
    "            y840 = str(\"%.3f\" % items)\n",
    "            y840 = float(y840[0] + '.840')\n",
    "            element_list.at[items, 'Connection3_Nr'] = (element_list.at[y840, 'SW_Module_Nr']) #Y.840\n",
    "\n",
    "\n",
    "        #SIS Pumps - Either ask user or GUI selection for every sis module\n",
    "        #case ['M', 'P', 'SC']:\n",
    "            \n",
    "            #element_list.at[items, 'Connection2'] = SOFTWARE_MODE_DEFINITION[\"S_LIMIT_HI_LO\"]\n",
    "            #element_list.at[items, 'Connection2_Nr'] = (element_list.at[1.800, 'SW_Module_Nr']) #Y.800 (temp) - Ask user\n",
    "\n",
    "            #element_list.at[items, 'Connection3'] = SOFTWARE_MODE_DEFINITION[\"S_LIMIT_HI_LO\"]\n",
    "            #element_list.at[items, 'Connection3_Nr'] = (element_list.at[2.810, 'SW_Module_Nr']) #Y.800 (humidity) - Ask user\n",
    "            \n",
    "\n",
    "        #1.655 [H, M, NC] Control valve (Cool water control)\n",
    "        case ['H', 'M', 'NC']: \n",
    "            #element_list.at[items, 'Connection2'] = SOFTWARE_MODE_DEFINITION[\"S_LIMIT_HI_LO\"]\n",
    "            #limit_hi_lo = limit_hi_lo + 1\n",
    "            y688 = str(\"%.3f\" % items)\n",
    "            y688 = float(y688[0] + '.688')\n",
    "            element_list.at[items, 'Connection2_Nr'] = (element_list.at[y688, 'SW_Module_Nr']) #Y.688\n",
    "\n",
    "        #1.680 [D, EC, TSA+]  Electric heating\n",
    "        case ['EC', 'TSA+']: \n",
    "            #element_list.at[items, 'Connection2'] = SOFTWARE_MODE_DEFINITION[\"S_LIMIT_HI_LO\"]\n",
    "            y688 = str(\"%.3f\" % items)\n",
    "            y688 = float(y688[0] + '.688')\n",
    "            element_list.at[items, 'Connection2_Nr'] = (element_list.at[y688, 'SW_Module_Nr']) #Y.688\n",
    "\n",
    "        \n",
    "         #Leader Follower\n",
    "        case ['W']: #1.650 heat exchanger\n",
    "            element_list.at[items, 'SW_Module'] = SOFTWARE_MODE_DEFINITION['S_LEADER_FOLLOWER']\n",
    "            leader_follower = leader_follower + 1\n",
    "            element_list.at[items, 'SW_Module_Nr'] = leader_follower\n",
    "\n",
    "            #Reg\n",
    "            element_list.at[items, 'Connection1'] = SOFTWARE_MODE_DEFINITION[\"S_REG_CONT\"]\n",
    "            reg_number = reg_number + 1\n",
    "            element_list.at[items, 'Connection1_Nr'] = reg_number\n",
    "\n",
    "            element_list.at[items, 'Connection2'] = SOFTWARE_MODE_DEFINITION[\"S_LIMIT_HI_LO\"]\n",
    "            #limit_hi_lo = limit_hi_lo + 1\n",
    "            element_list.at[items, 'Connection2_Nr'] = (element_list.at[1.800, 'SW_Module_Nr'])#Temperature working chamber\n",
    "\n",
    "            #Reg Conn 2\n",
    "            element_list.at[items, 'Connection3'] = SOFTWARE_MODE_DEFINITION[\"S_REG_CONT\"]\n",
    "            element_list.at[items, 'Connection3_Nr'] = (element_list.at[1.655, 'Connection1_Nr']) #Reg number of 1.655\n",
    "\n",
    "            #Reg Conn 3\n",
    "            element_list.at[items, 'Connection4'] = SOFTWARE_MODE_DEFINITION[\"S_REG_CONT\"]\n",
    "            element_list.at[items, 'Connection4_Nr'] = (element_list.at[1.680, 'Connection1_Nr']) #Reg number of 1.680\n",
    "\n",
    "        \n"
   ]
  },
  {
   "cell_type": "code",
   "execution_count": null,
   "metadata": {},
   "outputs": [],
   "source": [
    "#if (1.655 and 1.688) in element_list.index:\n",
    "   \n",
    "\n"
   ]
  },
  {
   "cell_type": "code",
   "execution_count": null,
   "metadata": {},
   "outputs": [],
   "source": [
    "print(element_list.to_string())"
   ]
  },
  {
   "cell_type": "code",
   "execution_count": null,
   "metadata": {},
   "outputs": [],
   "source": [
    "#Export to excel\n",
    "# create the writer object\n",
    "writer = pd.ExcelWriter('Element_list_export.xlsx')\n",
    "# write dataframe to excel\n",
    "element_list.to_excel(writer)\n",
    "# save the excel\n",
    "writer.save()\n",
    "# close excel\n",
    "writer.close()\n"
   ]
  },
  {
   "cell_type": "code",
   "execution_count": null,
   "metadata": {},
   "outputs": [],
   "source": [
    "element_list.count()"
   ]
  },
  {
   "cell_type": "code",
   "execution_count": null,
   "metadata": {},
   "outputs": [],
   "source": [
    "#Drives\n",
    "element_list_drives = element_list[element_list['SW_Module'] == 'S_DRIVE']\n",
    "print(element_list_drives.to_string())"
   ]
  },
  {
   "cell_type": "code",
   "execution_count": null,
   "metadata": {},
   "outputs": [],
   "source": [
    "#Motor\n",
    "element_list_motors = element_list[element_list['SW_Module'] == 'S_MOTOR1']\n",
    "print(element_list_motors.to_string())"
   ]
  },
  {
   "cell_type": "code",
   "execution_count": null,
   "metadata": {},
   "outputs": [],
   "source": [
    "#Valve\n",
    "element_list_valve_flap = element_list[element_list['SW_Module'] == 'S_VALVE_FLAP']\n",
    "print(element_list_valve_flap.to_string())"
   ]
  },
  {
   "cell_type": "code",
   "execution_count": null,
   "metadata": {},
   "outputs": [],
   "source": [
    "#Element on off\n",
    "element_list_elmt_on_off = element_list[element_list['SW_Module'] == 'S_ELMT_ON_OFF']\n",
    "print(element_list_elmt_on_off.to_string())"
   ]
  },
  {
   "cell_type": "code",
   "execution_count": null,
   "metadata": {},
   "outputs": [],
   "source": [
    "element_list_limit_switch = element_list[element_list['SW_Module'] == 'S_LIMIT_SWITCH']\n",
    "print(element_list_limit_switch.to_string())"
   ]
  },
  {
   "cell_type": "code",
   "execution_count": null,
   "metadata": {},
   "outputs": [],
   "source": [
    "element_list_limit_hi_lo = element_list[element_list['SW_Module'] == 'S_LIMIT_HI_LO']\n",
    "print(element_list_limit_hi_lo.to_string())"
   ]
  },
  {
   "cell_type": "code",
   "execution_count": null,
   "metadata": {},
   "outputs": [],
   "source": [
    "element_list_leak = element_list[element_list['SW_Module'] == 'S_LEAK']\n",
    "print(element_list_leak.to_string())"
   ]
  },
  {
   "cell_type": "code",
   "execution_count": null,
   "metadata": {},
   "outputs": [],
   "source": [
    "#Particle counter modbus tcp\n",
    "element_list_pms_modbus_tcp = element_list[element_list['SW_Module'] == 'S_PMS_MODBUS_TCP']\n",
    "print(element_list_pms_modbus_tcp.to_string())\n"
   ]
  },
  {
   "cell_type": "code",
   "execution_count": null,
   "metadata": {},
   "outputs": [],
   "source": [
    "#Air sampler modbus\n",
    "element_list_aas_mas_tcp = element_list[element_list['SW_Module'] == 'S_AAS_MAS_TCP']\n",
    "print(element_list_aas_mas_tcp.to_string())"
   ]
  },
  {
   "cell_type": "code",
   "execution_count": null,
   "metadata": {},
   "outputs": [],
   "source": [
    "#element_list_motors = element_list[element_list['SW_Module'] == 'S_MOTOR1']\n",
    "#print(element_list_motors.to_string())"
   ]
  },
  {
   "cell_type": "code",
   "execution_count": null,
   "metadata": {},
   "outputs": [],
   "source": [
    "#Group by SW_Module\n",
    "#el_sortby_sw_module = element_list.groupby(['SW_Module']).agg(list).copy()\n",
    "#print(el_sortby_sw_module.to_string())"
   ]
  },
  {
   "cell_type": "code",
   "execution_count": null,
   "metadata": {},
   "outputs": [],
   "source": []
  },
  {
   "cell_type": "code",
   "execution_count": null,
   "metadata": {},
   "outputs": [],
   "source": [
    "#Group by pdi number again\n",
    "#this time\n",
    "#Group by PID number\n",
    "#element_list = element_list.groupby(['Prop_PID_Number']).agg(list).copy()"
   ]
  },
  {
   "cell_type": "code",
   "execution_count": null,
   "metadata": {},
   "outputs": [],
   "source": [
    "#print(element_list.to_string())"
   ]
  },
  {
   "cell_type": "code",
   "execution_count": null,
   "metadata": {},
   "outputs": [],
   "source": [
    "#list_1100 = element_list.loc[1.100].values.tolist()\n",
    "#list_1100[0].sort()"
   ]
  },
  {
   "cell_type": "code",
   "execution_count": null,
   "metadata": {},
   "outputs": [],
   "source": [
    "#print(list_1100[0])"
   ]
  },
  {
   "cell_type": "markdown",
   "metadata": {},
   "source": [
    "end_new code"
   ]
  },
  {
   "cell_type": "code",
   "execution_count": null,
   "metadata": {},
   "outputs": [],
   "source": [
    "#Remove duplicates - WARNING: It removes duplicates alarms as 1.310 Particle counter 0.5 um and 5.0um (maybe add exception when is an PCounter and duplicates elements)\n",
    "\n",
    "#df_data_excel_uniques = df_data_excel.drop_duplicates()"
   ]
  },
  {
   "cell_type": "code",
   "execution_count": null,
   "metadata": {},
   "outputs": [],
   "source": [
    "#df_data_excel_uniques.count()"
   ]
  },
  {
   "cell_type": "code",
   "execution_count": null,
   "metadata": {},
   "outputs": [],
   "source": [
    "#gkk = df_data_excel_uniques.groupby(['Prop_PID_Number', 'Prop_PID_Element'])\n",
    "#gkk.first()"
   ]
  },
  {
   "cell_type": "code",
   "execution_count": null,
   "metadata": {},
   "outputs": [],
   "source": []
  },
  {
   "cell_type": "code",
   "execution_count": null,
   "metadata": {},
   "outputs": [],
   "source": [
    "#Get uniques values from the PID Elements (the columns for the matrix)\n",
    "#df_unique_elememts = df_data_excel.Prop_PID_Element.unique()\n",
    "#df_unique_elememts.sort()\n",
    "#print(df_unique_elememts)\n",
    "\n",
    "\n"
   ]
  },
  {
   "cell_type": "markdown",
   "metadata": {},
   "source": [
    "#Export Unique elements to excel file - Once\n"
   ]
  },
  {
   "cell_type": "code",
   "execution_count": null,
   "metadata": {},
   "outputs": [],
   "source": [
    "#Create a dataframe containing the elements\n",
    "#pd_automation_code = pd.DataFrame(df_unique_elememts)\n",
    "#Create the writer object\n",
    "#automation_code = pd.ExcelWriter('AutomationCode.xlsx')\n",
    "#Write dataframe to excel file\n",
    "#pd_automation_code.to_excel(automation_code)\n",
    "#Save excel \n",
    "#automation_code.save()\n",
    "#Close excel\n",
    "#automation_code.close()\n"
   ]
  },
  {
   "cell_type": "code",
   "execution_count": null,
   "metadata": {},
   "outputs": [],
   "source": [
    "#Sort by PID number\n",
    "#df_data_excel_sorted = df_data_excel_uniques.sort_values(by='Prop_PID_Number')"
   ]
  },
  {
   "cell_type": "code",
   "execution_count": null,
   "metadata": {},
   "outputs": [],
   "source": [
    "#Set PID number as multi-index (group by does better)\n",
    "#df_data_excel_sorted.set_index(['Prop_PID_Number','Prop_PID_Element'])"
   ]
  },
  {
   "cell_type": "code",
   "execution_count": null,
   "metadata": {},
   "outputs": [],
   "source": [
    "#df_data_excel_sorted.head(1000)"
   ]
  },
  {
   "cell_type": "code",
   "execution_count": null,
   "metadata": {},
   "outputs": [],
   "source": [
    "#Add column, load data from Automation Code and mix\n",
    "#df_data_excel_sorted['Automation Code'] = ''\n"
   ]
  },
  {
   "cell_type": "code",
   "execution_count": null,
   "metadata": {},
   "outputs": [],
   "source": [
    "#df_data_excel_sorted"
   ]
  },
  {
   "cell_type": "code",
   "execution_count": null,
   "metadata": {},
   "outputs": [],
   "source": [
    "#Load Automation Code excel file\n",
    "#df_automation_code = pd.read_excel('AutomationCode.xlsx')\n",
    "#df_automation_code.head()"
   ]
  },
  {
   "cell_type": "code",
   "execution_count": null,
   "metadata": {},
   "outputs": [],
   "source": [
    "#Lookup\n",
    "#df = df_data_excel\n",
    "#df['Automation_Code'] = ''\n",
    "#print (df)"
   ]
  },
  {
   "cell_type": "code",
   "execution_count": null,
   "metadata": {},
   "outputs": [],
   "source": [
    "# Deprecated df['Automation Code'] = df.set_index('Prop_PID_Element').lookup(df_automation_code.Prop_PID_Element, df_automation_code.Automation_Code)"
   ]
  },
  {
   "cell_type": "code",
   "execution_count": null,
   "metadata": {},
   "outputs": [],
   "source": [
    "#pd.melt(df,)\n",
    "#print(df.combine_first(df_automation_code))"
   ]
  },
  {
   "cell_type": "code",
   "execution_count": null,
   "metadata": {},
   "outputs": [],
   "source": [
    "#documents = [['SW_MODULE', 'SW_MODULE_NR'], ['CONN1', 'CONN1_NR'], ['CONN2', 'CONN2_NR'], ['CONN3', 'CONN3_NR'], 'AM', 'HW']\n",
    "#documents = ['EL', 'AM', 'HW', 'FN']"
   ]
  },
  {
   "cell_type": "code",
   "execution_count": null,
   "metadata": {},
   "outputs": [],
   "source": [
    "#\n",
    "#df[df_unique_elememts] = pd.NaT\n",
    "#documents = ['EL', 'AM', 'HW', 'FN']\n",
    "#df[documents] = pd.NaT\n",
    "#print(df.to_string())"
   ]
  },
  {
   "cell_type": "code",
   "execution_count": null,
   "metadata": {},
   "outputs": [],
   "source": []
  },
  {
   "cell_type": "markdown",
   "metadata": {},
   "source": [
    "Element list"
   ]
  }
 ],
 "metadata": {
  "kernelspec": {
   "display_name": "Python 3.10.4 ('threeten')",
   "language": "python",
   "name": "python3"
  },
  "language_info": {
   "codemirror_mode": {
    "name": "ipython",
    "version": 3
   },
   "file_extension": ".py",
   "mimetype": "text/x-python",
   "name": "python",
   "nbconvert_exporter": "python",
   "pygments_lexer": "ipython3",
   "version": "3.10.4"
  },
  "orig_nbformat": 4,
  "vscode": {
   "interpreter": {
    "hash": "e86036d21433f4a2bee45dbc33d8f91556738bc293244e8e3a303e855aac776a"
   }
  }
 },
 "nbformat": 4,
 "nbformat_minor": 2
}
