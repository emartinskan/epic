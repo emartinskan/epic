{
 "cells": [
  {
   "cell_type": "markdown",
   "metadata": {},
   "source": [
    " EPIC, the Extended PID Configurator, Ihr vertrauenswürdiger Konfigurator :)\n",
    "V0.1 := Initial release."
   ]
  },
  {
   "cell_type": "markdown",
   "metadata": {},
   "source": [
    "#Writed according PEP8 style guide\n",
    "#https://realpython.com/python-pep8/"
   ]
  },
  {
   "cell_type": "code",
   "execution_count": 729,
   "metadata": {},
   "outputs": [
    {
     "name": "stdout",
     "output_type": "stream",
     "text": [
      "Pandas version: 1.4.2\n",
      "Numpy version: 1.21.5\n"
     ]
    }
   ],
   "source": [
    "#Libraries import\n",
    "import os\n",
    "import time\n",
    "import datetime\n",
    "import pandas as pd\n",
    "import numpy as np\n",
    "from numpy import random\n",
    "import scipy.sparse as sp\n",
    "\n",
    "##Version information\n",
    "print(f\"Pandas version: {pd.__version__}\") #Pandas version number\n",
    "print(f\"Numpy version: {np.__version__}\") #numpy version number\n",
    "\n"
   ]
  },
  {
   "cell_type": "code",
   "execution_count": 730,
   "metadata": {},
   "outputs": [],
   "source": [
    "#Global variables\n",
    "import_mode = True # import mode (True/False) - Imports an csv from PID\n",
    "verbose_mode = False # verbose mode (True/False)\n",
    "debug_mode = True # debug mode (True/False)\n",
    "random_mode = False # random data generation  (True/False)\n",
    "simulation_mode = False # simulation (True/False)"
   ]
  },
  {
   "cell_type": "code",
   "execution_count": 731,
   "metadata": {},
   "outputs": [],
   "source": [
    "#Generate standard templated\n",
    "generate_tag_number_definitions = False #Every element has a description and a unique number for software modules\n",
    "#generate_element_list_alarm_matrix = False #Every element has a unique number of alarms\n",
    "#generate_element_list_hardware_matrix = False #All possible combinations of elements have a unique IO"
   ]
  },
  {
   "cell_type": "code",
   "execution_count": 732,
   "metadata": {},
   "outputs": [],
   "source": [
    "#Data generation\n",
    "generate_element_list = False\n",
    "generate_functional_matrix = False\n",
    "generate_alarm_matrix = False\n",
    "generate_hardware_config = False\n",
    "generate_symbolic   = False\n",
    "generate_s_plant    = False\n",
    "generate_s_line = False\n",
    "generate_flow_chart = False\n"
   ]
  },
  {
   "cell_type": "code",
   "execution_count": 733,
   "metadata": {},
   "outputs": [
    {
     "name": "stdout",
     "output_type": "stream",
     "text": [
      "Current Working Directory is:  C:\\temp\\epic\n"
     ]
    }
   ],
   "source": [
    "if import_mode: \n",
    "    ##Change working directory to temp/epic\n",
    "    os.chdir('C://temp/epic/')\n",
    "    cwd = os.getcwd()\n",
    "    print('Current Working Directory is: ', cwd)\n",
    "    \n"
   ]
  },
  {
   "cell_type": "code",
   "execution_count": 734,
   "metadata": {},
   "outputs": [
    {
     "name": "stdout",
     "output_type": "stream",
     "text": [
      "['OLD_PID.csv', 'PID.xlsx', 'TND.xlsx']\n"
     ]
    }
   ],
   "source": [
    "if import_mode:\n",
    "    print(os.listdir(cwd)) #List directory"
   ]
  },
  {
   "cell_type": "markdown",
   "metadata": {},
   "source": [
    "#Random_mode:\n",
    "Generate aleatories PID numbers and symbols.\n",
    "\n"
   ]
  },
  {
   "cell_type": "code",
   "execution_count": 735,
   "metadata": {},
   "outputs": [],
   "source": [
    "#Generate list of X random numbers from 1.100 - 9.999:\n",
    "if random_mode:\n",
    "    random_PID_numbers=list(random.randint(1100,10000, size=(1000)))\n",
    "\n",
    "    if verbose_mode:    print(random_PID_numbers)"
   ]
  },
  {
   "cell_type": "code",
   "execution_count": 736,
   "metadata": {},
   "outputs": [],
   "source": [
    "#Generate PID symbol\n",
    "if random_mode:\n",
    "    random_PID_symbols = list(random.choice(['B', 'C', 'D', 'EC', 'F', 'FA-', 'FIA+', 'FICA+', 'FSA-', 'GIA', 'GSA+', 'GSA-', 'GZA-', 'H', 'K', 'L', 'LSA-', 'M',\n",
    "    'MIA±', 'NC', 'P', 'PDI', 'PDICA±', 'PDIS', 'PI', 'PSA-', 'QIA+', 'QIA-', 'QSA+', 'S', 'SC', 'SIA±', 'T', 'TI', 'TIC', 'TICA±', 'TSA+',\n",
    "    'V', 'W', 'WICA±', 'XA', 'Y', 'YC'], size=(1000)))\n",
    "\n",
    "    if verbose_mode:    print(random_PID_symbols)\n",
    "    if debug_mode:      print(type(random_PID_symbols))"
   ]
  },
  {
   "cell_type": "markdown",
   "metadata": {},
   "source": [
    "Series and DataFrames"
   ]
  },
  {
   "cell_type": "code",
   "execution_count": 737,
   "metadata": {},
   "outputs": [],
   "source": [
    "#pid_series = pd.Series(random_PID_symbols, random_PID_numbers)\n",
    "#pid_series = pid_series.sort_index(axis=0,ascending=True)\n",
    "#pid_series\n",
    "\n",
    "#Import Tag number definitions as a pandas series\n",
    "#tnd = pd.read_csv('TND.csv',names=['PID','Description'])\n",
    "#tnd = pd.read_excel('TND.xlsx',)\n",
    "#tnd"
   ]
  },
  {
   "cell_type": "code",
   "execution_count": 738,
   "metadata": {},
   "outputs": [],
   "source": [
    "#PID_series = tnd['PID'].squeeze()\n",
    "#pid_exist = PID_series.str.contains('.100')"
   ]
  },
  {
   "cell_type": "code",
   "execution_count": 739,
   "metadata": {},
   "outputs": [],
   "source": [
    "#tnd.at[0,'Description']"
   ]
  },
  {
   "cell_type": "code",
   "execution_count": 740,
   "metadata": {},
   "outputs": [
    {
     "data": {
      "text/html": [
       "<div>\n",
       "<style scoped>\n",
       "    .dataframe tbody tr th:only-of-type {\n",
       "        vertical-align: middle;\n",
       "    }\n",
       "\n",
       "    .dataframe tbody tr th {\n",
       "        vertical-align: top;\n",
       "    }\n",
       "\n",
       "    .dataframe thead th {\n",
       "        text-align: right;\n",
       "    }\n",
       "</style>\n",
       "<table border=\"1\" class=\"dataframe\">\n",
       "  <thead>\n",
       "    <tr style=\"text-align: right;\">\n",
       "      <th></th>\n",
       "      <th>Description</th>\n",
       "    </tr>\n",
       "    <tr>\n",
       "      <th>PID</th>\n",
       "      <th></th>\n",
       "    </tr>\n",
       "  </thead>\n",
       "  <tbody>\n",
       "    <tr>\n",
       "      <th>1.100</th>\n",
       "      <td>Intake air fan</td>\n",
       "    </tr>\n",
       "    <tr>\n",
       "      <th>1.101</th>\n",
       "      <td>Filter 1</td>\n",
       "    </tr>\n",
       "    <tr>\n",
       "      <th>1.102</th>\n",
       "      <td>Filter 2</td>\n",
       "    </tr>\n",
       "    <tr>\n",
       "      <th>1.103</th>\n",
       "      <td>Filter 3</td>\n",
       "    </tr>\n",
       "    <tr>\n",
       "      <th>1.104</th>\n",
       "      <td>NaN</td>\n",
       "    </tr>\n",
       "    <tr>\n",
       "      <th>...</th>\n",
       "      <td>...</td>\n",
       "    </tr>\n",
       "    <tr>\n",
       "      <th>1.995</th>\n",
       "      <td>NaN</td>\n",
       "    </tr>\n",
       "    <tr>\n",
       "      <th>1.996</th>\n",
       "      <td>NaN</td>\n",
       "    </tr>\n",
       "    <tr>\n",
       "      <th>1.997</th>\n",
       "      <td>NaN</td>\n",
       "    </tr>\n",
       "    <tr>\n",
       "      <th>1.998</th>\n",
       "      <td>NaN</td>\n",
       "    </tr>\n",
       "    <tr>\n",
       "      <th>1.999</th>\n",
       "      <td>NaN</td>\n",
       "    </tr>\n",
       "  </tbody>\n",
       "</table>\n",
       "<p>900 rows × 1 columns</p>\n",
       "</div>"
      ],
      "text/plain": [
       "          Description\n",
       "PID                  \n",
       "1.100  Intake air fan\n",
       "1.101        Filter 1\n",
       "1.102        Filter 2\n",
       "1.103        Filter 3\n",
       "1.104             NaN\n",
       "...               ...\n",
       "1.995             NaN\n",
       "1.996             NaN\n",
       "1.997             NaN\n",
       "1.998             NaN\n",
       "1.999             NaN\n",
       "\n",
       "[900 rows x 1 columns]"
      ]
     },
     "execution_count": 740,
     "metadata": {},
     "output_type": "execute_result"
    }
   ],
   "source": [
    "tnd_pid = pd.read_excel('TND.xlsx',index_col='PID')\n",
    "tnd_pid"
   ]
  },
  {
   "cell_type": "code",
   "execution_count": 741,
   "metadata": {},
   "outputs": [
    {
     "data": {
      "text/plain": [
       "'Intake air fan'"
      ]
     },
     "execution_count": 741,
     "metadata": {},
     "output_type": "execute_result"
    }
   ],
   "source": [
    "tnd_pid.at[1.100,'Description']"
   ]
  },
  {
   "cell_type": "markdown",
   "metadata": {},
   "source": [
    "Reading Excel File\n",
    "\n",
    "We can read an excel file into a data frame:\n",
    "\n",
    "pd.read_excel('myExcel.xlsx', index_col=['ColumnA'])\n",
    "\n",
    "We can also load one sheet into a data frame:\n",
    "\n",
    "pd.read_excel(open('myExcel.xlsx', 'rb'), sheet_name='Sheet1')"
   ]
  },
  {
   "cell_type": "code",
   "execution_count": 742,
   "metadata": {},
   "outputs": [],
   "source": [
    "#df_data_excel = pd.read_excel('PID.xlsx', index_col='Prop_PID_Number')\n",
    "df_data_excel = pd.read_excel('PID.xlsx')"
   ]
  },
  {
   "cell_type": "code",
   "execution_count": 743,
   "metadata": {},
   "outputs": [],
   "source": [
    "#Remove ShapeKey from the dataframe\n",
    "del df_data_excel['ShapeKey']"
   ]
  },
  {
   "cell_type": "code",
   "execution_count": 744,
   "metadata": {},
   "outputs": [
    {
     "data": {
      "text/plain": [
       "Prop_PID_Element    289\n",
       "Prop_PID_Number     289\n",
       "dtype: int64"
      ]
     },
     "execution_count": 744,
     "metadata": {},
     "output_type": "execute_result"
    }
   ],
   "source": [
    "df_data_excel.count()"
   ]
  },
  {
   "cell_type": "code",
   "execution_count": 745,
   "metadata": {},
   "outputs": [],
   "source": [
    "#Remove duplicates - It removes duplicates alarms as 1.310 Particle counter 0.5 um and 5.0um\n",
    "\n",
    "df_data_excel_uniques = df_data_excel.drop_duplicates()"
   ]
  },
  {
   "cell_type": "code",
   "execution_count": 746,
   "metadata": {},
   "outputs": [
    {
     "data": {
      "text/plain": [
       "Prop_PID_Element    281\n",
       "Prop_PID_Number     281\n",
       "dtype: int64"
      ]
     },
     "execution_count": 746,
     "metadata": {},
     "output_type": "execute_result"
    }
   ],
   "source": [
    "df_data_excel_uniques.count()"
   ]
  },
  {
   "cell_type": "code",
   "execution_count": 747,
   "metadata": {},
   "outputs": [
    {
     "data": {
      "text/html": [
       "<div>\n",
       "<style scoped>\n",
       "    .dataframe tbody tr th:only-of-type {\n",
       "        vertical-align: middle;\n",
       "    }\n",
       "\n",
       "    .dataframe tbody tr th {\n",
       "        vertical-align: top;\n",
       "    }\n",
       "\n",
       "    .dataframe thead th {\n",
       "        text-align: right;\n",
       "    }\n",
       "</style>\n",
       "<table border=\"1\" class=\"dataframe\">\n",
       "  <thead>\n",
       "    <tr style=\"text-align: right;\">\n",
       "      <th></th>\n",
       "      <th></th>\n",
       "    </tr>\n",
       "    <tr>\n",
       "      <th>Prop_PID_Number</th>\n",
       "      <th>Prop_PID_Element</th>\n",
       "    </tr>\n",
       "  </thead>\n",
       "  <tbody>\n",
       "    <tr>\n",
       "      <th rowspan=\"4\" valign=\"top\">1.100</th>\n",
       "      <th>M</th>\n",
       "    </tr>\n",
       "    <tr>\n",
       "      <th>SC</th>\n",
       "    </tr>\n",
       "    <tr>\n",
       "      <th>V</th>\n",
       "    </tr>\n",
       "    <tr>\n",
       "      <th>XA</th>\n",
       "    </tr>\n",
       "    <tr>\n",
       "      <th>1.101</th>\n",
       "      <th>F</th>\n",
       "    </tr>\n",
       "    <tr>\n",
       "      <th>...</th>\n",
       "      <th>...</th>\n",
       "    </tr>\n",
       "    <tr>\n",
       "      <th>2.304</th>\n",
       "      <th>P</th>\n",
       "    </tr>\n",
       "    <tr>\n",
       "      <th>2.308</th>\n",
       "      <th>FSA-</th>\n",
       "    </tr>\n",
       "    <tr>\n",
       "      <th rowspan=\"2\" valign=\"top\">2.350</th>\n",
       "      <th>P</th>\n",
       "    </tr>\n",
       "    <tr>\n",
       "      <th>XA</th>\n",
       "    </tr>\n",
       "    <tr>\n",
       "      <th>2.990</th>\n",
       "      <th>L</th>\n",
       "    </tr>\n",
       "  </tbody>\n",
       "</table>\n",
       "<p>281 rows × 0 columns</p>\n",
       "</div>"
      ],
      "text/plain": [
       "Empty DataFrame\n",
       "Columns: []\n",
       "Index: [(1.1, M), (1.1, SC), (1.1, V), (1.1, XA), (1.101, F), (1.102, F), (1.108, PDI), (1.111, F), (1.112, F), (1.15, M), (1.15, SC), (1.15, TSA+), (1.15, V), (1.151, F), (1.152, F), (1.155, C), (1.158, PDI), (1.16, M), (1.16, SC), (1.16, V), (1.16, XA), (1.2, M), (1.2, SC), (1.2, V), (1.2, XA), (1.201, F), (1.208, PDI), (1.21, M), (1.21, SC), (1.21, V), (1.21, XA), (1.211, F), (1.218, PDI), (1.221, F), (1.232, F), (1.24, M), (1.24, SC), (1.24, V), (1.24, XA), (1.241, F), (1.242, F), (1.248, PDI), (1.3, FA-), (1.3, QIA+), (1.3, XA), (1.304, M), (1.304, P), (1.305, GSA+), (1.305, GSA-), (1.305, V), (1.305, Y), (1.308, FSA-), (1.31, FA-), (1.31, QIA+), (1.31, XA), (1.314, M), (1.314, P), (1.315, GSA+), (1.315, GSA-), (1.315, V), (1.315, Y), (1.318, FSA-), (1.32, FA-), (1.32, QIA+), (1.32, XA), (1.324, M), (1.324, P), (1.325, GSA+), (1.325, GSA-), (1.325, V), (1.325, Y), (1.328, FSA-), (1.33, FA-), (1.33, QIA+), (1.33, XA), (1.334, M), (1.334, P), (1.335, GSA+), (1.335, GSA-), (1.335, V), (1.335, Y), (1.338, FSA-), (1.35, P), (1.35, XA), (1.36, P), (1.36, XA), (1.37, P), (1.37, XA), (1.4, GIA), (1.4, M), (1.4, SC), (1.4, XA), (1.41, GIA), (1.41, M), (1.41, SC), (1.41, XA), (1.52, GSA+), (1.52, GSA-), (1.52, K), (1.52, Y), ...]\n",
       "\n",
       "[281 rows x 0 columns]"
      ]
     },
     "execution_count": 747,
     "metadata": {},
     "output_type": "execute_result"
    }
   ],
   "source": [
    "gkk = df_data_excel_uniques.groupby(['Prop_PID_Number', 'Prop_PID_Element'])\n",
    "gkk.first()"
   ]
  },
  {
   "cell_type": "code",
   "execution_count": 748,
   "metadata": {},
   "outputs": [
    {
     "name": "stdout",
     "output_type": "stream",
     "text": [
      "['B' 'C' 'D' 'EC' 'F' 'FA-' 'FIA+' 'FICA±' 'FSA-' 'GIA' 'GSA+' 'GSA-'\n",
      " 'GZA-' 'H' 'K' 'L' 'LSA-' 'M' 'MIA±' 'NC' 'P' 'PDI' 'PDICA±' 'PDIS' 'PI'\n",
      " 'PSA-' 'QIA+' 'QIA-' 'QSA+' 'S' 'SC' 'SIA±' 'T' 'TIC' 'TICA±' 'TSA+' 'V'\n",
      " 'W' 'WICA±' 'XA' 'Y' 'YC']\n"
     ]
    }
   ],
   "source": [
    "#Get uniques values from the PID Elements (the columns for the matrix)\n",
    "df_unique_elememts = df_data_excel.Prop_PID_Element.unique()\n",
    "df_unique_elememts.sort()\n",
    "print(df_unique_elememts)\n",
    "\n",
    "\n"
   ]
  },
  {
   "cell_type": "code",
   "execution_count": 749,
   "metadata": {},
   "outputs": [],
   "source": [
    "#Sort by PID number\n",
    "df_data_excel_sorted = df_data_excel_uniques.sort_values(by='Prop_PID_Number')"
   ]
  },
  {
   "cell_type": "code",
   "execution_count": 750,
   "metadata": {},
   "outputs": [
    {
     "data": {
      "text/html": [
       "<div>\n",
       "<style scoped>\n",
       "    .dataframe tbody tr th:only-of-type {\n",
       "        vertical-align: middle;\n",
       "    }\n",
       "\n",
       "    .dataframe tbody tr th {\n",
       "        vertical-align: top;\n",
       "    }\n",
       "\n",
       "    .dataframe thead th {\n",
       "        text-align: right;\n",
       "    }\n",
       "</style>\n",
       "<table border=\"1\" class=\"dataframe\">\n",
       "  <thead>\n",
       "    <tr style=\"text-align: right;\">\n",
       "      <th></th>\n",
       "      <th>Prop_PID_Element</th>\n",
       "      <th>Prop_PID_Number</th>\n",
       "    </tr>\n",
       "  </thead>\n",
       "  <tbody>\n",
       "    <tr>\n",
       "      <th>209</th>\n",
       "      <td>V</td>\n",
       "      <td>1.100</td>\n",
       "    </tr>\n",
       "    <tr>\n",
       "      <th>251</th>\n",
       "      <td>XA</td>\n",
       "      <td>1.100</td>\n",
       "    </tr>\n",
       "    <tr>\n",
       "      <th>186</th>\n",
       "      <td>SC</td>\n",
       "      <td>1.100</td>\n",
       "    </tr>\n",
       "    <tr>\n",
       "      <th>107</th>\n",
       "      <td>M</td>\n",
       "      <td>1.100</td>\n",
       "    </tr>\n",
       "    <tr>\n",
       "      <th>4</th>\n",
       "      <td>F</td>\n",
       "      <td>1.101</td>\n",
       "    </tr>\n",
       "    <tr>\n",
       "      <th>...</th>\n",
       "      <td>...</td>\n",
       "      <td>...</td>\n",
       "    </tr>\n",
       "    <tr>\n",
       "      <th>130</th>\n",
       "      <td>M</td>\n",
       "      <td>2.304</td>\n",
       "    </tr>\n",
       "    <tr>\n",
       "      <th>46</th>\n",
       "      <td>FSA-</td>\n",
       "      <td>2.308</td>\n",
       "    </tr>\n",
       "    <tr>\n",
       "      <th>270</th>\n",
       "      <td>XA</td>\n",
       "      <td>2.350</td>\n",
       "    </tr>\n",
       "    <tr>\n",
       "      <th>150</th>\n",
       "      <td>P</td>\n",
       "      <td>2.350</td>\n",
       "    </tr>\n",
       "    <tr>\n",
       "      <th>100</th>\n",
       "      <td>L</td>\n",
       "      <td>2.990</td>\n",
       "    </tr>\n",
       "  </tbody>\n",
       "</table>\n",
       "<p>281 rows × 2 columns</p>\n",
       "</div>"
      ],
      "text/plain": [
       "    Prop_PID_Element  Prop_PID_Number\n",
       "209                V            1.100\n",
       "251               XA            1.100\n",
       "186               SC            1.100\n",
       "107                M            1.100\n",
       "4                  F            1.101\n",
       "..               ...              ...\n",
       "130                M            2.304\n",
       "46              FSA-            2.308\n",
       "270               XA            2.350\n",
       "150                P            2.350\n",
       "100                L            2.990\n",
       "\n",
       "[281 rows x 2 columns]"
      ]
     },
     "execution_count": 750,
     "metadata": {},
     "output_type": "execute_result"
    }
   ],
   "source": [
    "df_data_excel_sorted.head(1000)"
   ]
  }
 ],
 "metadata": {
  "kernelspec": {
   "display_name": "Python 3.9.12 ('base')",
   "language": "python",
   "name": "python3"
  },
  "language_info": {
   "codemirror_mode": {
    "name": "ipython",
    "version": 3
   },
   "file_extension": ".py",
   "mimetype": "text/x-python",
   "name": "python",
   "nbconvert_exporter": "python",
   "pygments_lexer": "ipython3",
   "version": "3.9.12"
  },
  "orig_nbformat": 4,
  "vscode": {
   "interpreter": {
    "hash": "77fe7f394e6233d2bf48f208122493e7b5d7499c90a22c2f89a7d992d484fad0"
   }
  }
 },
 "nbformat": 4,
 "nbformat_minor": 2
}
