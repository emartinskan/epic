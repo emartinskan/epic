{
 "cells": [
  {
   "cell_type": "markdown",
   "metadata": {},
   "source": [
    " EPIC, the Extended PID Configurator, Ihr vertrauenswürdiger Konfigurator :)\n",
    "V0.1 := Initial release."
   ]
  },
  {
   "cell_type": "markdown",
   "metadata": {},
   "source": [
    "#Writed according PEP8 style guide\n",
    "#https://realpython.com/python-pep8/"
   ]
  },
  {
   "cell_type": "code",
   "execution_count": 12,
   "metadata": {},
   "outputs": [
    {
     "name": "stdout",
     "output_type": "stream",
     "text": [
      "Pandas version: 1.4.2\n",
      "Numpy version: 1.21.5\n"
     ]
    }
   ],
   "source": [
    "#Libraries import\n",
    "import os\n",
    "import time\n",
    "import datetime\n",
    "import pandas as pd\n",
    "import numpy as np\n",
    "from numpy import random\n",
    "import scipy.sparse as sp\n",
    "\n",
    "##Version information\n",
    "print(f\"Pandas version: {pd.__version__}\") #Pandas version number\n",
    "print(f\"Numpy version: {np.__version__}\") #numpy version number\n",
    "\n"
   ]
  },
  {
   "cell_type": "code",
   "execution_count": 13,
   "metadata": {},
   "outputs": [
    {
     "name": "stdout",
     "output_type": "stream",
     "text": [
      "Current Working Directory is:  C:\\Users\\marten1\\AppData\\Local\\Programs\\Microsoft VS Code\n"
     ]
    }
   ],
   "source": [
    "## %pwd #Return the current working directory path in linux\n",
    "# Get a working directory with os.getcwd\n",
    "cwd = os.getcwd()\n",
    "\n",
    "print('Current Working Directory is: ', cwd)"
   ]
  },
  {
   "cell_type": "code",
   "execution_count": 28,
   "metadata": {},
   "outputs": [
    {
     "data": {
      "text/plain": [
       "['bin',\n",
       " 'chrome_100_percent.pak',\n",
       " 'chrome_200_percent.pak',\n",
       " 'Code.exe',\n",
       " 'Code.VisualElementsManifest.xml',\n",
       " 'd3dcompiler_47.dll',\n",
       " 'ffmpeg.dll',\n",
       " 'icudtl.dat',\n",
       " 'libEGL.dll',\n",
       " 'libGLESv2.dll',\n",
       " 'locales',\n",
       " 'policies',\n",
       " 'resources',\n",
       " 'resources.pak',\n",
       " 'snapshot_blob.bin',\n",
       " 'swiftshader',\n",
       " 'tools',\n",
       " 'unins000.dat',\n",
       " 'unins000.exe',\n",
       " 'unins000.msg',\n",
       " 'v8_context_snapshot.bin',\n",
       " 'vk_swiftshader.dll',\n",
       " 'vk_swiftshader_icd.json',\n",
       " 'vulkan-1.dll']"
      ]
     },
     "execution_count": 28,
     "metadata": {},
     "output_type": "execute_result"
    }
   ],
   "source": [
    "#!ls #List directory contents of files and directories\n",
    "os.listdir(cwd)\n"
   ]
  },
  {
   "cell_type": "code",
   "execution_count": 15,
   "metadata": {},
   "outputs": [],
   "source": [
    "#Global variables\n",
    "verbose_mode = False # verbose mode (True/False)\n",
    "debug_mode = True # debug mode (True/False)\n",
    "random_mode = True # random data generation  (True/False)\n",
    "simulation_mode = True # simulation (True/False)"
   ]
  },
  {
   "cell_type": "code",
   "execution_count": 16,
   "metadata": {},
   "outputs": [],
   "source": [
    "#Generate standard templated\n",
    "generate_tag_number_definitions = False #Every element has a description and a unique number for software modules\n",
    "#generate_element_list_alarm_matrix = False #Every element has a unique number of alarms\n",
    "#generate_element_list_hardware_matrix = False #All possible combinations of elements have a unique IO"
   ]
  },
  {
   "cell_type": "code",
   "execution_count": 17,
   "metadata": {},
   "outputs": [],
   "source": [
    "#Data generation\n",
    "generate_element_list = False\n",
    "generate_functional_matrix = False\n",
    "generate_alarm_matrix = False\n",
    "generate_hardware_config = False\n",
    "generate_symbolic   = False\n",
    "generate_s_plant    = False\n",
    "generate_s_line = False\n",
    "generate_flow_chart = False\n"
   ]
  },
  {
   "cell_type": "code",
   "execution_count": 18,
   "metadata": {},
   "outputs": [],
   "source": [
    "#\n",
    "generate_full_isolator = False #\n",
    "generate_all_alarms = False\n"
   ]
  },
  {
   "cell_type": "markdown",
   "metadata": {},
   "source": [
    "#Random_mode:\n",
    "Generate aleatories PID numbers and symbols.\n",
    "\n"
   ]
  },
  {
   "cell_type": "code",
   "execution_count": 19,
   "metadata": {},
   "outputs": [],
   "source": [
    "#Generate list of X random numbers from 1.100 - 9.999:\n",
    "if random_mode:\n",
    "    random_PID_numbers=list(random.randint(1100,10000, size=(1000)))\n",
    "\n",
    "    if verbose_mode:    print(random_PID_numbers)"
   ]
  },
  {
   "cell_type": "code",
   "execution_count": 20,
   "metadata": {},
   "outputs": [
    {
     "name": "stdout",
     "output_type": "stream",
     "text": [
      "<class 'list'>\n"
     ]
    }
   ],
   "source": [
    "#Generate PID symbol\n",
    "if random_mode:\n",
    "    random_PID_symbols = list(random.choice(['B', 'C', 'D', 'EC', 'F', 'FA-', 'FIA+', 'FICA+', 'FSA-', 'GIA', 'GSA+', 'GSA-', 'GZA-', 'H', 'K', 'L', 'LSA-', 'M',\n",
    "    'MIA±', 'NC', 'P', 'PDI', 'PDICA±', 'PDIS', 'PI', 'PSA-', 'QIA+', 'QIA-', 'QSA+', 'S', 'SC', 'SIA±', 'T', 'TI', 'TIC', 'TICA±', 'TSA+',\n",
    "    'V', 'W', 'WICA±', 'XA', 'Y', 'YC'], size=(1000)))\n",
    "\n",
    "    if verbose_mode:    print(random_PID_symbols)\n",
    "    if debug_mode:      print(type(random_PID_symbols))"
   ]
  },
  {
   "cell_type": "code",
   "execution_count": 21,
   "metadata": {},
   "outputs": [],
   "source": [
    "#TODO: Remove <1100 and > 9999\n",
    "# send this tuples to a list for post revision"
   ]
  },
  {
   "cell_type": "markdown",
   "metadata": {},
   "source": [
    "Series and DataFrames"
   ]
  },
  {
   "cell_type": "code",
   "execution_count": 22,
   "metadata": {},
   "outputs": [
    {
     "data": {
      "text/plain": [
       "1105    PSA-\n",
       "1106    PSA-\n",
       "1144       B\n",
       "1161      XA\n",
       "1162       L\n",
       "        ... \n",
       "9965    FIA+\n",
       "9973       L\n",
       "9977     TIC\n",
       "9981       M\n",
       "9999      PI\n",
       "Length: 1000, dtype: object"
      ]
     },
     "execution_count": 22,
     "metadata": {},
     "output_type": "execute_result"
    }
   ],
   "source": [
    "pid_series = pd.Series(random_PID_symbols, random_PID_numbers)\n",
    "pid_series = pid_series.sort_index(axis=0,ascending=True)\n",
    "pid_series"
   ]
  }
 ],
 "metadata": {
  "kernelspec": {
   "display_name": "Python 3.9.12 ('base')",
   "language": "python",
   "name": "python3"
  },
  "language_info": {
   "codemirror_mode": {
    "name": "ipython",
    "version": 3
   },
   "file_extension": ".py",
   "mimetype": "text/x-python",
   "name": "python",
   "nbconvert_exporter": "python",
   "pygments_lexer": "ipython3",
   "version": "3.9.12"
  },
  "orig_nbformat": 4,
  "vscode": {
   "interpreter": {
    "hash": "77fe7f394e6233d2bf48f208122493e7b5d7499c90a22c2f89a7d992d484fad0"
   }
  }
 },
 "nbformat": 4,
 "nbformat_minor": 2
}
