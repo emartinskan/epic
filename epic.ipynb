{
 "cells": [
  {
   "cell_type": "markdown",
   "metadata": {},
   "source": [
    " EPIC, the Extended PID Configurator, Ihr vertrauenswürdiger Konfigurator :)\n",
    "V0.1 := Initial release."
   ]
  },
  {
   "cell_type": "markdown",
   "metadata": {},
   "source": [
    "#Writed according PEP8 style guide\n",
    "#https://realpython.com/python-pep8/"
   ]
  },
  {
   "cell_type": "code",
   "execution_count": 8,
   "metadata": {},
   "outputs": [
    {
     "name": "stdout",
     "output_type": "stream",
     "text": [
      "Pandas version: 1.4.2\n",
      "Numpy version: 1.21.5\n"
     ]
    }
   ],
   "source": [
    "#Libraries import\n",
    "import os\n",
    "import time\n",
    "import datetime\n",
    "import pandas as pd\n",
    "import numpy as np\n",
    "from numpy import random\n",
    "import scipy.sparse as sp\n",
    "\n",
    "##Version information\n",
    "print(f\"Pandas version: {pd.__version__}\") #Pandas version number\n",
    "print(f\"Numpy version: {np.__version__}\") #numpy version number\n",
    "\n"
   ]
  },
  {
   "cell_type": "code",
   "execution_count": 14,
   "metadata": {},
   "outputs": [
    {
     "data": {
      "text/plain": [
       "'/home/emg/Documents/myPythonWay/github/epic'"
      ]
     },
     "execution_count": 14,
     "metadata": {},
     "output_type": "execute_result"
    }
   ],
   "source": [
    "%pwd #Return the current working directory path"
   ]
  },
  {
   "cell_type": "code",
   "execution_count": 15,
   "metadata": {},
   "outputs": [
    {
     "name": "stdout",
     "output_type": "stream",
     "text": [
      "epic.ipynb  README.md\n"
     ]
    }
   ],
   "source": [
    "!ls #List directory contents of files and directories"
   ]
  },
  {
   "cell_type": "code",
   "execution_count": 2,
   "metadata": {},
   "outputs": [],
   "source": [
    "#Global variables\n",
    "verbose_mode = False # verbose mode (True/False)\n",
    "debug_mode = True # debug mode (True/False)\n",
    "random_mode = True # random data generation  (True/False)\n",
    "simulation_mode = True # simulation (True/False)"
   ]
  },
  {
   "cell_type": "markdown",
   "metadata": {},
   "source": [
    "#Random_mode:\n",
    "Generate aleatories PID numbers and symbols.\n",
    "\n"
   ]
  },
  {
   "cell_type": "code",
   "execution_count": 3,
   "metadata": {},
   "outputs": [],
   "source": [
    "#Generate list of X random numbers from 1.100 - 9.999:\n",
    "if random_mode:\n",
    "    random_PID_numbers=list(random.randint(1100,10000, size=(1000)))\n",
    "\n",
    "    if verbose_mode:    print(random_PID_numbers)"
   ]
  },
  {
   "cell_type": "code",
   "execution_count": 4,
   "metadata": {},
   "outputs": [
    {
     "name": "stdout",
     "output_type": "stream",
     "text": [
      "<class 'list'>\n"
     ]
    }
   ],
   "source": [
    "#Generate PID symbol\n",
    "if random_mode:\n",
    "    random_PID_symbols = list(random.choice(['B', 'C', 'D', 'EC', 'F', 'FA-', 'FIA+', 'FICA+', 'FSA-', 'GIA', 'GSA+', 'GSA-', 'GZA-', 'H', 'K', 'L', 'LSA-', 'M',\n",
    "    'MIA±', 'NC', 'P', 'PDI', 'PDICA±', 'PDIS', 'PI', 'PSA-', 'QIA+', 'QIA-', 'QSA+', 'S', 'SC', 'SIA±', 'T', 'TI', 'TIC', 'TICA±', 'TSA+',\n",
    "    'V', 'W', 'WICA±', 'XA', 'Y', 'YC'], size=(1000)))\n",
    "\n",
    "    if verbose_mode:    print(random_PID_symbols)\n",
    "    if debug_mode:      print(type(random_PID_symbols))"
   ]
  },
  {
   "cell_type": "code",
   "execution_count": 5,
   "metadata": {},
   "outputs": [],
   "source": [
    "#TODO: Remove <1100 and > 9999\n",
    "# send this tuples to a list for post revision"
   ]
  },
  {
   "cell_type": "markdown",
   "metadata": {},
   "source": [
    "Series and DataFrames"
   ]
  },
  {
   "cell_type": "code",
   "execution_count": 6,
   "metadata": {},
   "outputs": [
    {
     "data": {
      "text/plain": [
       "1100     PSA-\n",
       "1110        P\n",
       "1116     QSA+\n",
       "1137     PSA-\n",
       "1141     SIA±\n",
       "        ...  \n",
       "9944    TICA±\n",
       "9973    FICA+\n",
       "9975        Y\n",
       "9977    TICA±\n",
       "9979        D\n",
       "Length: 1000, dtype: object"
      ]
     },
     "execution_count": 6,
     "metadata": {},
     "output_type": "execute_result"
    }
   ],
   "source": [
    "pid_series = pd.Series(random_PID_symbols, random_PID_numbers)\n",
    "pid_series = pid_series.sort_index(axis=0,ascending=True)\n",
    "pid_series"
   ]
  }
 ],
 "metadata": {
  "kernelspec": {
   "display_name": "Python 3.9.7 ('base')",
   "language": "python",
   "name": "python3"
  },
  "language_info": {
   "codemirror_mode": {
    "name": "ipython",
    "version": 3
   },
   "file_extension": ".py",
   "mimetype": "text/x-python",
   "name": "python",
   "nbconvert_exporter": "python",
   "pygments_lexer": "ipython3",
   "version": "3.9.7"
  },
  "orig_nbformat": 4,
  "vscode": {
   "interpreter": {
    "hash": "a6627e58fd7f2b047afd9129dc6894af90d8e11e0067a0f01bd20d2780572437"
   }
  }
 },
 "nbformat": 4,
 "nbformat_minor": 2
}
